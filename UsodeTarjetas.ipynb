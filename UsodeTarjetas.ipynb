{
  "nbformat": 4,
  "nbformat_minor": 0,
  "metadata": {
    "colab": {
      "provenance": [],
      "include_colab_link": true
    },
    "kernelspec": {
      "name": "python3",
      "display_name": "Python 3"
    },
    "language_info": {
      "name": "python"
    }
  },
  "cells": [
    {
      "cell_type": "markdown",
      "metadata": {
        "id": "view-in-github",
        "colab_type": "text"
      },
      "source": [
        "<a href=\"https://colab.research.google.com/github/Stanleylarin/Programacion-3/blob/main/UsodeTarjetas.ipynb\" target=\"_parent\"><img src=\"https://colab.research.google.com/assets/colab-badge.svg\" alt=\"Open In Colab\"/></a>"
      ]
    },
    {
      "cell_type": "markdown",
      "source": [
        "Ana Carolina Guevara Rodríguez - USIS037621\n",
        "Franklin Stanley Larin Saravia - USIS002421\n",
        "Jacqueline Vanessa Rivas Araujo - USIS019521"
      ],
      "metadata": {
        "id": "0xSsaXaGkDZH"
      }
    },
    {
      "cell_type": "code",
      "execution_count": null,
      "metadata": {
        "id": "nRWqB_enGc7N"
      },
      "outputs": [],
      "source": [
        "import pandas as pd\n",
        "import matplotlib.pyplot as plt"
      ]
    },
    {
      "cell_type": "markdown",
      "source": [
        "Tarjetas de crédito"
      ],
      "metadata": {
        "id": "5bqfKBR8L7AK"
      }
    },
    {
      "cell_type": "code",
      "source": [
        "tarjetascredito =  pd.read_csv (\"trx_tarjetas_credito.csv\",  sep = \",\")\n",
        "print(tarjetascredito)"
      ],
      "metadata": {
        "colab": {
          "base_uri": "https://localhost:8080/"
        },
        "id": "wlOB-sJnL0Z6",
        "outputId": "cfe07fa8-cd46-484b-fa90-85db161c17f7"
      },
      "execution_count": null,
      "outputs": [
        {
          "output_type": "stream",
          "name": "stdout",
          "text": [
            "                        City       Date  Card Type Exp Type Gender  Amount\n",
            "0               Delhi, India  29-Oct-14       Gold    Bills      F   82475\n",
            "1      Greater Mumbai, India  22-Aug-14   Platinum    Bills      F   32555\n",
            "2           Bengaluru, India  27-Aug-14     Silver    Bills      F  101738\n",
            "3      Greater Mumbai, India  12-Apr-14  Signature    Bills      F  123424\n",
            "4           Bengaluru, India   5-May-15       Gold    Bills      F  171574\n",
            "...                      ...        ...        ...      ...    ...     ...\n",
            "26047         Kolkata, India  22-Jun-14     Silver   Travel      F  128191\n",
            "26048            Pune, India   3-Aug-14  Signature   Travel      M  246316\n",
            "26049       Hyderabad, India  16-Jan-15     Silver   Travel      M  265019\n",
            "26050          Kanpur, India  14-Sep-14     Silver   Travel      M   88174\n",
            "26051       Hyderabad, India  19-Oct-13  Signature    Bills      M  184410\n",
            "\n",
            "[26052 rows x 6 columns]\n"
          ]
        }
      ]
    },
    {
      "cell_type": "markdown",
      "source": [
        "Uso de tarjetas por género"
      ],
      "metadata": {
        "id": "x7vT1qzFL9hP"
      }
    },
    {
      "cell_type": "code",
      "source": [
        "genero = pd.crosstab(index = tarjetascredito[\"Gender\"],  columns = \"fr\")\n",
        "print(genero)"
      ],
      "metadata": {
        "colab": {
          "base_uri": "https://localhost:8080/"
        },
        "id": "rDRGZXn_MBsZ",
        "outputId": "3629b6a9-9ec6-40c1-c62a-28323938e1a3"
      },
      "execution_count": null,
      "outputs": [
        {
          "output_type": "stream",
          "name": "stdout",
          "text": [
            "col_0      fr\n",
            "Gender       \n",
            "F       13680\n",
            "M       12372\n"
          ]
        }
      ]
    },
    {
      "cell_type": "code",
      "source": [
        "genero = pd.crosstab(index = tarjetascredito [\"Gender\"], columns = \"fr\")\n",
        "plt.pie(genero, labels = genero.index,autopct=\"%0.1f %%\")\n",
        "plt.xlabel(\"Tarjetas por género\")\n",
        "plt.axis(\"equal\")\n",
        "plt.show()\n",
        "genero.to_csv(\"/content/genero.csv\")"
      ],
      "metadata": {
        "colab": {
          "base_uri": "https://localhost:8080/",
          "height": 322
        },
        "id": "MgNILMEZNHMl",
        "outputId": "4907a020-4c09-43e9-dc1e-88d1550c0f54"
      },
      "execution_count": null,
      "outputs": [
        {
          "output_type": "stream",
          "name": "stderr",
          "text": [
            "/usr/local/lib/python3.7/dist-packages/ipykernel_launcher.py:2: MatplotlibDeprecationWarning: Non-1D inputs to pie() are currently squeeze()d, but this behavior is deprecated since 3.1 and will be removed in 3.3; pass a 1D array instead.\n",
            "  \n"
          ]
        },
        {
          "output_type": "display_data",
          "data": {
            "text/plain": [
              "<Figure size 432x288 with 1 Axes>"
            ],
            "image/png": "[encoded data removed]"
          },
          "metadata": {}
        }
      ]
    },
    {
      "cell_type": "markdown",
      "source": [
        "Uso de tarjetas por tipo"
      ],
      "metadata": {
        "id": "p1vY04EGMFWK"
      }
    },
    {
      "cell_type": "code",
      "source": [
        "print(tarjetascredito.groupby(by = [\"Card Type\"]).sum())"
      ],
      "metadata": {
        "colab": {
          "base_uri": "https://localhost:8080/"
        },
        "id": "WL5jF77oMIpn",
        "outputId": "9f694108-e920-4c39-f77c-dfc7658fd28a"
      },
      "execution_count": null,
      "outputs": [
        {
          "output_type": "stream",
          "name": "stdout",
          "text": [
            "               Amount\n",
            "Card Type            \n",
            "Gold        984539536\n",
            "Platinum   1007639019\n",
            "Signature  1013041105\n",
            "Silver     1069613713\n"
          ]
        }
      ]
    },
    {
      "cell_type": "code",
      "source": [
        "tipo = pd.crosstab (index = tarjetascredito [\"Card Type\"], columns = \"fr\")\n",
        "plt.scatter(tipo.index, tipo )\n",
        "plt.plot(tipo.index, tipo)\n",
        "plt.xlabel(\"Tipo de tarjetas en uso\")\n",
        "plt.show()\n",
        "tipo.to_csv(\"/content/tipo.csv\")"
      ],
      "metadata": {
        "colab": {
          "base_uri": "https://localhost:8080/",
          "height": 279
        },
        "id": "uSGl6HiuN3vE",
        "outputId": "42de9aa1-1d98-41c5-b169-675a2dd54c97"
      },
      "execution_count": null,
      "outputs": [
        {
          "output_type": "display_data",
          "data": {
            "text/plain": [
              "<Figure size 432x288 with 1 Axes>"
            ],
            "image/png": "[encoded data removed]"
          },
          "metadata": {
            "needs_background": "light"
          }
        }
      ]
    },
    {
      "cell_type": "code",
      "source": [],
      "metadata": {
        "id": "Tz1_anp8lNn8"
      },
      "execution_count": null,
      "outputs": []
    },
    {
      "cell_type": "markdown",
      "source": [
        "Uso de tarjeta por uso\n"
      ],
      "metadata": {
        "id": "QxoQmPy4MM5v"
      }
    },
    {
      "cell_type": "code",
      "source": [
        "print(tarjetascredito.groupby(by = [\"Exp Type\"]).sum().groupby(level = [0]).cumsum())"
      ],
      "metadata": {
        "colab": {
          "base_uri": "https://localhost:8080/"
        },
        "id": "zOelPRPGMRx3",
        "outputId": "1a9e8a1d-49e4-4f58-f546-ec2a89655b5d"
      },
      "execution_count": null,
      "outputs": [
        {
          "output_type": "stream",
          "name": "stdout",
          "text": [
            "                  Amount\n",
            "Exp Type                \n",
            "Bills          907072473\n",
            "Entertainment  726437536\n",
            "Food           824724009\n",
            "Fuel           789135821\n",
            "Grocery        718207923\n",
            "Travel         109255611\n"
          ]
        }
      ]
    },
    {
      "cell_type": "code",
      "source": [
        "from matplotlib import colorbar\n",
        "tarjetas=pd.DataFrame(tarjetascredito.groupby(by=[\"Exp Type\"])[\"Amount\"].sum())\n",
        "tarjetas=tarjetas.sort_values(by='Amount', ascending=False)\n",
        "listatipoGasto=['Bills','Entertainment','Food','Fuel','Grocery','Travel']\n",
        "colores= ('purple', 'red', 'cyan', 'black', 'grey', 'pink')\n",
        "plt.bar(listatipoGasto, tarjetas['Amount'], color=colores)\n",
        "plt.xlabel(\"Tipos de uso de las tarjetas\")\n",
        "colorbar=[]\n",
        "plt.show()\n",
        "tarjetas.to_csv(\"/content/tarjetas.csv\")"
      ],
      "metadata": {
        "colab": {
          "base_uri": "https://localhost:8080/",
          "height": 290
        },
        "id": "nt2ZXKm9Odky",
        "outputId": "3839fbe4-ffea-48d5-e88b-c4f1c1549833"
      },
      "execution_count": null,
      "outputs": [
        {
          "output_type": "display_data",
          "data": {
            "text/plain": [
              "<Figure size 432x288 with 1 Axes>"
            ],
            "image/png": "[encoded data removed]"
          },
          "metadata": {
            "needs_background": "light"
          }
        }
      ]
    },
    {
      "cell_type": "markdown",
      "source": [
        "Tarjetas usadas por ciudad"
      ],
      "metadata": {
        "id": "nfhkViskO_sa"
      }
    },
    {
      "cell_type": "code",
      "source": [
        "print(tarjetascredito.groupby(by = [\"City\"]).sum())"
      ],
      "metadata": {
        "colab": {
          "base_uri": "https://localhost:8080/"
        },
        "id": "d1O1Fe7TPCdO",
        "outputId": "30e56915-2e30-4f7c-f049-159f531718a9"
      },
      "execution_count": null,
      "outputs": [
        {
          "output_type": "stream",
          "name": "stdout",
          "text": [
            "                   Amount\n",
            "City                     \n",
            "Achalpur, India   1606641\n",
            "Adilabad, India   1769464\n",
            "Adityapur, India   963993\n",
            "Adoni, India      1575355\n",
            "Adoor, India       647725\n",
            "...                   ...\n",
            "Zaidpur, India     723818\n",
            "Zamania, India     865634\n",
            "Zira, India       1640547\n",
            "Zirakpur, India    549663\n",
            "Zunheboto, India   466429\n",
            "\n",
            "[986 rows x 1 columns]\n"
          ]
        }
      ]
    },
    {
      "cell_type": "code",
      "source": [
        "gastosxtipo=pd.DataFrame(tarjetascredito.groupby(by=[\"City\",\"Exp Type\"])[\"Amount\"].sum())\n",
        "ciudades_con_menos_gastos=gastosxtipo.sort_values(by='Amount', ascending=False)\n",
        "gastosxtipo=gastosxtipo.head(7)\n",
        "plt.pie(gastosxtipo, labels = gastosxtipo.index)\n",
        "plt.xlabel(\"Gastos por ciudad\")\n",
        "plt.show()\n",
        "gastosxtipo.to_csv(\"/content/ciudad.csv\")"
      ],
      "metadata": {
        "colab": {
          "base_uri": "https://localhost:8080/",
          "height": 317
        },
        "id": "4sv6_S-8amI1",
        "outputId": "267989a5-7a4a-4ffc-b9cb-0a202c49eb1b"
      },
      "execution_count": null,
      "outputs": [
        {
          "output_type": "stream",
          "name": "stderr",
          "text": [
            "/usr/local/lib/python3.7/dist-packages/ipykernel_launcher.py:4: MatplotlibDeprecationWarning: Non-1D inputs to pie() are currently squeeze()d, but this behavior is deprecated since 3.1 and will be removed in 3.3; pass a 1D array instead.\n",
            "  after removing the cwd from sys.path.\n"
          ]
        },
        {
          "output_type": "display_data",
          "data": {
            "text/plain": [
              "<Figure size 432x288 with 1 Axes>"
            ],
            "image/png": "[encoded data removed]"
          },
          "metadata": {}
        }
      ]
    }
  ]
}