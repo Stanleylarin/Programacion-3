{
  "cells": [
    {
      "cell_type": "markdown",
      "metadata": {
        "id": "view-in-github",
        "colab_type": "text"
      },
      "source": [
        "<a href=\"https://colab.research.google.com/github/Stanleylarin/Programacion-3/blob/main/PRACTICA%20IA.ipynb\" target=\"_parent\"><img src=\"https://colab.research.google.com/assets/colab-badge.svg\" alt=\"Open In Colab\"/></a>"
      ]
    },
    {
      "cell_type": "markdown",
      "source": [
        "ENTRENAMIENTO DE UNA IA PARA QUE APRENDA A CONVERTIR A TEMPERATURAS DE C A F"
      ],
      "metadata": {
        "id": "8qTLcwS2-m4Y"
      }
    },
    {
      "cell_type": "code",
      "source": [
        "1 #IMPORTAR LAS LIBRERIAS\n",
        "import tensorflow as tf \n",
        "import matplotlib.pyplot as plt\n",
        "import pandas as pd\n",
        "import seaborn as sb"
      ],
      "metadata": {
        "id": "-2zArTYT-_7g"
      },
      "execution_count": 40,
      "outputs": []
    },
    {
      "cell_type": "code",
      "source": [
        "Temperaturas = pd.read_csv('Temperaturas.csv', sep=';')\n",
        "print(Temperaturas)"
      ],
      "metadata": {
        "id": "fF7T-Jde_hxl",
        "outputId": "94f3483c-7e27-4429-e30b-6286cbbebbda",
        "colab": {
          "base_uri": "https://localhost:8080/"
        }
      },
      "execution_count": 41,
      "outputs": [
        {
          "output_type": "stream",
          "name": "stdout",
          "text": [
            "         K   C\n",
            "0   233.15 -40\n",
            "1   243.15 -30\n",
            "2   253.15 -20\n",
            "3   263.15 -10\n",
            "4   268.15  -5\n",
            "5   269.15  -4\n",
            "6   270.15  -3\n",
            "7   271.15  -2\n",
            "8   272.15  -1\n",
            "9   273.15   0\n",
            "10  274.15   1\n",
            "11  275.15   2\n",
            "12  276.15   3\n",
            "13  277.15   4\n",
            "14  278.15   5\n",
            "15  283.15  10\n",
            "16  293.15  20\n",
            "17  303.15  30\n",
            "18  313.15  40\n"
          ]
        }
      ]
    },
    {
      "cell_type": "code",
      "source": [
        "#datos de entrenamiento\n",
        "K = Temperaturas['K']\n",
        "C = Temperaturas['C']"
      ],
      "metadata": {
        "id": "JbB4G2_rAlZU"
      },
      "execution_count": 42,
      "outputs": []
    },
    {
      "cell_type": "code",
      "source": [
        "#graficar los datos de entrenamiento\n",
        "sb.scatterplot(C,K)\n",
        "plt.show"
      ],
      "metadata": {
        "id": "PvPhSwG4CFBc",
        "outputId": "c9d2f7bb-ee65-4f03-eade-f6aeeb5b17a6",
        "colab": {
          "base_uri": "https://localhost:8080/",
          "height": 351
        }
      },
      "execution_count": 43,
      "outputs": [
        {
          "output_type": "stream",
          "name": "stderr",
          "text": [
            "/usr/local/lib/python3.7/dist-packages/seaborn/_decorators.py:43: FutureWarning: Pass the following variables as keyword args: x, y. From version 0.12, the only valid positional argument will be `data`, and passing other arguments without an explicit keyword will result in an error or misinterpretation.\n",
            "  FutureWarning\n"
          ]
        },
        {
          "output_type": "execute_result",
          "data": {
            "text/plain": [
              "<function matplotlib.pyplot.show(*args, **kw)>"
            ]
          },
          "metadata": {},
          "execution_count": 43
        },
        {
          "output_type": "display_data",
          "data": {
            "text/plain": [
              "<Figure size 432x288 with 1 Axes>"
            ],
            "image/png": "[encoded data removed]"
          },
          "metadata": {
            "needs_background": "light"
          }
        }
      ]
    },
    {
      "cell_type": "code",
      "source": [
        "#modelo con 1 de capa densa (oculta)\n",
        "modelo = tf.keras.Sequential()\n",
        "modelo.add(tf.keras.layers.Dense(units=1, input_shape=[1]))"
      ],
      "metadata": {
        "id": "TXBwaXvKBVTR"
      },
      "execution_count": 44,
      "outputs": []
    },
    {
      "cell_type": "code",
      "source": [
        "#compilar el modelo\n",
        "modelo.compile(optimizer=tf.keras.optimizers.Adam(1), loss='mean_squared_error')"
      ],
      "metadata": {
        "id": "7X-d6SXICYwX"
      },
      "execution_count": 45,
      "outputs": []
    },
    {
      "cell_type": "code",
      "source": [
        "#entrenar el modelo\n",
        "epocas = modelo.fit(C,K, epochs=200, verbose=0)"
      ],
      "metadata": {
        "id": "Ac7KfGhsCsxe"
      },
      "execution_count": 52,
      "outputs": []
    },
    {
      "cell_type": "code",
      "source": [
        "#probar nuestra IA\n",
        "resp = modelo.predict([40])\n",
        "print(resp)"
      ],
      "metadata": {
        "id": "O2f-FxjYECXk",
        "outputId": "faf56a7c-6dfe-48fc-b11b-d159594e7606",
        "colab": {
          "base_uri": "https://localhost:8080/"
        }
      },
      "execution_count": 53,
      "outputs": [
        {
          "output_type": "stream",
          "name": "stdout",
          "text": [
            "[[313.14932]]\n"
          ]
        }
      ]
    }
  ],
  "metadata": {
    "colab": {
      "collapsed_sections": [],
      "name": "Te damos la bienvenida a Colaboratory",
      "provenance": [],
      "include_colab_link": true
    },
    "kernelspec": {
      "display_name": "Python 3",
      "name": "python3"
    }
  },
  "nbformat": 4,
  "nbformat_minor": 0
}