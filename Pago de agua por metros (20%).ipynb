{
  "nbformat": 4,
  "nbformat_minor": 0,
  "metadata": {
    "colab": {
      "name": "Untitled3.ipynb",
      "provenance": [],
      "authorship_tag": "ABX9TyOpqQ8LEADc3on87YiR5cBE",
      "include_colab_link": true
    },
    "kernelspec": {
      "name": "python3",
      "display_name": "Python 3"
    },
    "language_info": {
      "name": "python"
    }
  },
  "cells": [
    {
      "cell_type": "markdown",
      "metadata": {
        "id": "view-in-github",
        "colab_type": "text"
      },
      "source": [
        "<a href=\"https://colab.research.google.com/github/Stanleylarin/Programacion-3/blob/main/Pago%20de%20agua%20por%20metros%20(20%25).ipynb\" target=\"_parent\"><img src=\"https://colab.research.google.com/assets/colab-badge.svg\" alt=\"Open In Colab\"/></a>"
      ]
    },
    {
      "cell_type": "code",
      "source": [
        "Precio = 6"
      ],
      "metadata": {
        "id": "CZp1bf5Jx5s-"
      },
      "execution_count": 42,
      "outputs": []
    },
    {
      "cell_type": "code",
      "source": [
        "Metros = float(input(\"Metros consumidos: \"))\n",
        "if(Metros<18):\n",
        "  print(\"Total a pagar\", Precio)\n",
        "elif(Metros<28):\n",
        "  print(\"Total a pagar\", 3.15 + Precio)\n",
        "elif (Metros<40):\n",
        "  print(\"Total a pagar\", 11 + Precio)\n",
        "else:\n",
        "  print('Maximo de metros a poseer es 40')"
      ],
      "metadata": {
        "colab": {
          "base_uri": "https://localhost:8080/"
        },
        "id": "-65IGK3m44px",
        "outputId": "af7bf29c-bf3e-46ee-c244-5fa529ed271a"
      },
      "execution_count": 64,
      "outputs": [
        {
          "output_type": "stream",
          "name": "stdout",
          "text": [
            "Metros consumidos: 50\n",
            "Maximo de metros a poseer es 40\n"
          ]
        }
      ]
    }
  ]
}