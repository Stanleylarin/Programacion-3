{
  "nbformat": 4,
  "nbformat_minor": 0,
  "metadata": {
    "colab": {
      "provenance": [],
      "authorship_tag": "ABX9TyN3M1c2evfr+GuChGqbXhcE",
      "include_colab_link": true
    },
    "kernelspec": {
      "name": "python3",
      "display_name": "Python 3"
    },
    "language_info": {
      "name": "python"
    }
  },
  "cells": [
    {
      "cell_type": "markdown",
      "metadata": {
        "id": "view-in-github",
        "colab_type": "text"
      },
      "source": [
        "<a href=\"https://colab.research.google.com/github/Stanleylarin/Programacion-3/blob/main/IMPUESTO.ipynb\" target=\"_parent\"><img src=\"https://colab.research.google.com/assets/colab-badge.svg\" alt=\"Open In Colab\"/></a>"
      ]
    },
    {
      "cell_type": "code",
      "execution_count": 1,
      "metadata": {
        "colab": {
          "base_uri": "https://localhost:8080/"
        },
        "id": "YPSGTkoETyd5",
        "outputId": "9b0066fe-1176-4109-ffe4-6003f7ae3aee"
      },
      "outputs": [
        {
          "output_type": "stream",
          "name": "stdout",
          "text": [
            "Cual es el monto de tu actividad economica?: 400000\n",
            "El impuesto a pagar es $:  299.9999955\n"
          ]
        }
      ],
      "source": [
        "Monto=float(input('Cual es el monto de tu actividad economica?: '))\n",
        "if Monto>0.01 and Monto<=500:\n",
        "     impuesto= Monto -0.01\n",
        "     resultado=(impuesto/1000)*0.0+1.5\n",
        "\n",
        "elif Monto>500.01 and Monto<=1000:\n",
        "     impuesto=Monto - 500.01\n",
        "     resultado=(impuesto/1000)*3.0+1.5\n",
        "\n",
        "elif Monto>1000.01 and Monto<=2000:\n",
        "    impuesto=Monto - 1000.01\n",
        "    resultado=(impuesto/1000)*3.0+3.0\n",
        "\n",
        "elif Monto>2000.01 and Monto<=3000:\n",
        "    impuesto=Monto - 2000.01\n",
        "    resultado=(impuesto/1000)*3.0+6.0\n",
        "   \n",
        "elif Monto>3000.01 and Monto<=6000:\n",
        "     impuesto=Monto - 3000.01\n",
        "     resultado=(impuesto/1000)*2.0+9.0\n",
        "\n",
        "elif Monto>8000.01 and Monto<=18000:\n",
        "     impuesto=Monto - 8000.01\n",
        "     resultado=(impuesto/1000)*2+15\n",
        "\n",
        "elif Monto>18000.01 and Monto<=30000:\n",
        "     impuesto=Monto - 18000.01\n",
        "     resultado=(impuesto/1000)*2+39\n",
        "\n",
        "elif Monto>30000.01 and Monto<=60000:\n",
        "    impuesto=Monto - 30000.01\n",
        "    resultado=(impuesto/1000)*1.0+63.0\n",
        "\n",
        "elif Monto>60000.01 and Monto<=100000:\n",
        "    impuesto=Monto - 60000.01\n",
        "    resultado=(impuesto/1000)*0.8+93\n",
        "\n",
        "elif Monto>100000.01 and Monto<=200000:\n",
        "    impuesto=Monto - 100000.01\n",
        "    resultado=(impuesto/1000)*0.7+125\n",
        "\n",
        "elif Monto>200000.01 and Monto<=300000:\n",
        "    impuesto=Monto - 200000.01\n",
        "    resultado=(impuesto/1000)*0.6+195\n",
        "\n",
        "elif Monto>300000.01 and Monto<=400000:\n",
        "    impuesto=Monto - 300000.01\n",
        "    resultado=(impuesto/1000)*0.45+255\n",
        "\n",
        "elif Monto>400000.01 and Monto<=500000:\n",
        "     impuesto=Monto - 400000.01\n",
        "     resultado=(impuesto/1000)*0.4+300\n",
        "\n",
        "elif Monto>500000.01 and Monto<=1000000:\n",
        "     impuesto=Monto - 500000.01\n",
        "     resultado=(impuesto/1000)*0.30+340\n",
        "\n",
        "elif Monto>1000000.01 and Monto<=99999999:\n",
        "     impuesto=Monto - 1000000.01\n",
        "     resultado=(impuesto/1000)*0.18+490\n",
        "else:\n",
        "    impuesto=0\n",
        "print('El impuesto a pagar es $: ', resultado)"
      ]
    }
  ]
}