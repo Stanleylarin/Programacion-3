{
  "nbformat": 4,
  "nbformat_minor": 0,
  "metadata": {
    "colab": {
      "provenance": [],
      "authorship_tag": "ABX9TyM/RVVS2Zui3+6AaaC/yZ/W",
      "include_colab_link": true
    },
    "kernelspec": {
      "name": "python3",
      "display_name": "Python 3"
    },
    "language_info": {
      "name": "python"
    }
  },
  "cells": [
    {
      "cell_type": "markdown",
      "metadata": {
        "id": "view-in-github",
        "colab_type": "text"
      },
      "source": [
        "<a href=\"https://colab.research.google.com/github/Stanleylarin/Programacion-3/blob/main/Grados%20C%20a%20K%20con%20lambda.ipynb\" target=\"_parent\"><img src=\"https://colab.research.google.com/assets/colab-badge.svg\" alt=\"Open In Colab\"/></a>"
      ]
    },
    {
      "cell_type": "markdown",
      "source": [],
      "metadata": {
        "id": "cuNAD5OkfdrG"
      }
    },
    {
      "cell_type": "code",
      "source": [
        "ConversionCaK = lambda c : c + 273.15\n",
        "GradosC =float(input('ingrese los grados Celsius a convertir'))\n",
        "print(ConversionCaK(GradosC))"
      ],
      "metadata": {
        "colab": {
          "base_uri": "https://localhost:8080/"
        },
        "id": "b3Wpg4RLlZkU",
        "outputId": "6948841c-b97e-42c6-bbeb-e2251335e2b0"
      },
      "execution_count": 3,
      "outputs": [
        {
          "output_type": "stream",
          "name": "stdout",
          "text": [
            "ingrese los grados Celsius a convertir12\n",
            "285.15\n"
          ]
        }
      ]
    },
    {
      "cell_type": "code",
      "source": [
        "ConversionKaC = lambda c : c - 273.15\n",
        "GradosK =float(input('ingrese los grados Kelvin a convertir'))\n",
        "print(ConversionKaC(GradosK))"
      ],
      "metadata": {
        "colab": {
          "base_uri": "https://localhost:8080/"
        },
        "id": "AfhaekqSlrND",
        "outputId": "035c8f26-9c53-4938-a60e-129032c934a3"
      },
      "execution_count": 4,
      "outputs": [
        {
          "output_type": "stream",
          "name": "stdout",
          "text": [
            "ingrese los grados Kelvin a convertir12\n",
            "-261.15\n"
          ]
        }
      ]
    }
  ]
}