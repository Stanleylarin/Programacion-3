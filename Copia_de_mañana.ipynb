{
  "nbformat": 4,
  "nbformat_minor": 0,
  "metadata": {
    "colab": {
      "private_outputs": true,
      "provenance": [],
      "toc_visible": true,
      "include_colab_link": true
    },
    "kernelspec": {
      "name": "python3",
      "display_name": "Python 3"
    },
    "language_info": {
      "name": "python"
    }
  },
  "cells": [
    {
      "cell_type": "markdown",
      "metadata": {
        "id": "view-in-github",
        "colab_type": "text"
      },
      "source": [
        "<a href=\"https://colab.research.google.com/github/Stanleylarin/Programacion-3/blob/main/Copia_de_ma%C3%B1ana.ipynb\" target=\"_parent\"><img src=\"https://colab.research.google.com/assets/colab-badge.svg\" alt=\"Open In Colab\"/></a>"
      ]
    },
    {
      "cell_type": "code",
      "execution_count": null,
      "metadata": {
        "id": "8Aalr2lqtMAw"
      },
      "outputs": [],
      "source": [
        "#1. Importar las librerias.\n",
        "import tensorflow as tf\n",
        "import matplotlib.pyplot as plt\n",
        "import numpy as np\n",
        "import math\n",
        "import tensorflow_datasets as tfds"
      ]
    },
    {
      "cell_type": "code",
      "source": [
        "#2. Cargamos el dataset\n",
        "dataset, metadata = tfds.load('mnist', as_supervised=True, with_info=True)\n",
        "#print(dataset[\"train\"])\n",
        "datos_entrenamiento, datos_prueba = dataset[\"train\"], dataset[\"test\"]"
      ],
      "metadata": {
        "id": "mCBVwMYutUtp"
      },
      "execution_count": null,
      "outputs": []
    },
    {
      "cell_type": "code",
      "source": [
        "#monstrar una imagen...\n",
        "for img in datos_entrenamiento.take(1):\n",
        "  print(img)\n",
        "  img = img[0].numpy().reshape(1,28,28,1)\n",
        "  plt.grid(False)\n",
        "  plt.imshow(img[0, ..., 0], cmap=plt.cm.binary)"
      ],
      "metadata": {
        "id": "_PxyX75htZdt"
      },
      "execution_count": null,
      "outputs": []
    },
    {
      "cell_type": "code",
      "source": [
        "#3. #asignar las etiquetas son 10\n",
        "numeros_letras = [\"Cero\", \"Uno\", \"Dos\", \"Tres\", \"Cuatro\", \"Cinco\", \"Seis\", \"Siete\", \"Ocho\", \"Nueve\"]"
      ],
      "metadata": {
        "id": "289bwc6ctcKa"
      },
      "execution_count": null,
      "outputs": []
    },
    {
      "cell_type": "code",
      "source": [
        "#4. obtener la cantidad de datos.\n",
        "#print(metadata)\n",
        "cantidad_numeros_entrenamiento = metadata.splits[\"train\"].num_examples\n",
        "cantidad_numeros_prueba = metadata.splits[\"test\"].num_examples\n",
        "print(cantidad_numeros_entrenamiento, cantidad_numeros_prueba)"
      ],
      "metadata": {
        "id": "i1h3L7J-tioo"
      },
      "execution_count": null,
      "outputs": []
    },
    {
      "cell_type": "code",
      "source": [
        "#5. funcion normalizadora de los pixeles de 0 - 255 que sean valores de 0 - 1\n",
        "def normalizacion(img, label):\n",
        "  img = tf.cast(img, tf.float32)\n",
        "  img /= 255 #236/255 = 0.004237288\n",
        "  return img, label"
      ],
      "metadata": {
        "id": "QUWfKwMStlG6"
      },
      "execution_count": null,
      "outputs": []
    },
    {
      "cell_type": "code",
      "source": [
        "#6. Llamamos la funcion normlizadora\n",
        "datos_entrenamiento = datos_entrenamiento.map(normalizacion)\n",
        "datos_prueba = datos_prueba.map(normalizacion)\n",
        "\n",
        "#for img in datos_entrenamiento.take(1):\n",
        "  #print(img[0])#5.58150468e-08 => 0.0000000558150468"
      ],
      "metadata": {
        "id": "_mWzA-Uztnps"
      },
      "execution_count": null,
      "outputs": []
    }
  ]
}