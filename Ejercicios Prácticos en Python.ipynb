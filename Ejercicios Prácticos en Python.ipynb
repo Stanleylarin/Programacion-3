{
  "nbformat": 4,
  "nbformat_minor": 0,
  "metadata": {
    "colab": {
      "name": "Untitled4.ipynb",
      "provenance": [],
      "authorship_tag": "ABX9TyMTQVyYrHIPsTGeEqgrGX2z",
      "include_colab_link": true
    },
    "kernelspec": {
      "name": "python3",
      "display_name": "Python 3"
    },
    "language_info": {
      "name": "python"
    }
  },
  "cells": [
    {
      "cell_type": "markdown",
      "metadata": {
        "id": "view-in-github",
        "colab_type": "text"
      },
      "source": [
        "<a href=\"https://colab.research.google.com/github/Stanleylarin/Programacion-3/blob/main/Ejercicios%20Pr%C3%A1cticos%20en%20Python.ipynb\" target=\"_parent\"><img src=\"https://colab.research.google.com/assets/colab-badge.svg\" alt=\"Open In Colab\"/></a>"
      ]
    },
    {
      "cell_type": "markdown",
      "source": [
        "EJERCICIO 1"
      ],
      "metadata": {
        "id": "WUZANgiwDv6B"
      }
    },
    {
      "cell_type": "markdown",
      "source": [
        "Calcular sobre el sueldo las deducciones por ley ISSS (3%), AFP( 6.25%), ISR(Según tabla) e imprima el total deducciones \n",
        "y sueldo neto. (20%)"
      ],
      "metadata": {
        "id": "vsoFELry8o0a"
      }
    },
    {
      "cell_type": "code",
      "execution_count": 1,
      "metadata": {
        "id": "bzawcs8A8noF"
      },
      "outputs": [],
      "source": [
        "def impuestos(salario):\n",
        "  return (salario) * 0.03 + (salario) * 0.0625"
      ]
    },
    {
      "cell_type": "code",
      "source": [
        "def calculosalario(salario):\n",
        "  return (salario) - impuestos(salario)"
      ],
      "metadata": {
        "id": "i9iHok8Q81HN"
      },
      "execution_count": 2,
      "outputs": []
    },
    {
      "cell_type": "code",
      "source": [
        "def impuestos1 (salario):\n",
        "  return (calculosalario (salario) - 472.00) * 0.10 + 17.67"
      ],
      "metadata": {
        "id": "6PvWItP_85ww"
      },
      "execution_count": 3,
      "outputs": []
    },
    {
      "cell_type": "code",
      "source": [
        "def impuestos2 (salario):\n",
        "  return (calculosalario (salario) - 895.24) * 0.20 + 60"
      ],
      "metadata": {
        "id": "Cjr7wocT861P"
      },
      "execution_count": 4,
      "outputs": []
    },
    {
      "cell_type": "code",
      "source": [
        "def impuestos3 (salario):\n",
        "  return (calculosalario (salario) - 2038.10) * 0.30 + 288.57"
      ],
      "metadata": {
        "id": "r5YpsIbu86yM"
      },
      "execution_count": 5,
      "outputs": []
    },
    {
      "cell_type": "code",
      "source": [
        "salario = float(input(\"Ingrese la cantidad de su salario: \"))\n",
        "print(\"Su salario es de: \", calculosalario(salario))\n",
        "if salario <= 472 :\n",
        "  print(\"Lamentablemente usted no aplica a ISR \")\n",
        "  if salario >= 472.01  and salario <= 895.24: \n",
        "   print(\"Su retencion de impuesto sobre la renta en su salario: \",calculosalario(salario),\"es de :\",impuestos1(salario))\n",
        "   if salario >= 895.25 and salario <= 2038.10:\n",
        "    print(\"Su retención de impuesto sobre la renta en su salario de: \", calculosalario(salario), \"es de: \", impuestos2(salario))\n",
        "  if salario >= 2038.10:\n",
        "   print(\"Su retención de impuesto sobre la renta en su salario de: \", calculosalario(salario), \"es de: \", impuestos3(salario))\n",
        "   if salario >= 2038.10:\n",
        "    print(\"Su retención de impuesto sobre la renta en su salario de: \", calculosalario(salario), \"es de: \", impuestos3(salario))"
      ],
      "metadata": {
        "colab": {
          "base_uri": "https://localhost:8080/"
        },
        "id": "wACHF59U86um",
        "outputId": "fcca27fe-8bb7-4e75-c9ab-965ce5ee43f8"
      },
      "execution_count": 15,
      "outputs": [
        {
          "output_type": "stream",
          "name": "stdout",
          "text": [
            "Ingrese la cantidad de su salario: 2039\n",
            "Su salario es de:  1850.3925\n"
          ]
        }
      ]
    },
    {
      "cell_type": "markdown",
      "source": [
        "Ejercicio 2\n"
      ],
      "metadata": {
        "id": "oRGHs_OT9iCc"
      }
    },
    {
      "cell_type": "markdown",
      "source": [
        "Calcular el valor a pagar según el número de metros consumidos de agua potable (Ver tabla en la siguiente diapositiva). (20%)"
      ],
      "metadata": {
        "id": "c8g9UxQ19o94"
      }
    },
    {
      "cell_type": "code",
      "source": [
        "precio = 6"
      ],
      "metadata": {
        "id": "7PBOuaZx86cA"
      },
      "execution_count": null,
      "outputs": []
    },
    {
      "cell_type": "code",
      "source": [
        "metros = int(input(\"Digite la cantidad de metros consmidos: \"))\n",
        "if(metros<18):\n",
        "  print(\"Total por pagar: \", precio)\n",
        "elif(metros<28):\n",
        "    print(\"Total por pagar: \", 3.15 + precio)\n",
        "elif(metros<40):\n",
        "  print(\"Total por pagar: \", 11 + precio)\n",
        "else:\n",
        "  print(\"Máximo de metros a consumir es 120\")"
      ],
      "metadata": {
        "colab": {
          "base_uri": "https://localhost:8080/"
        },
        "id": "VoOl2EOX86Om",
        "outputId": "62ddf308-0881-43c3-fe62-5013aca8f859"
      },
      "execution_count": null,
      "outputs": [
        {
          "output_type": "stream",
          "name": "stdout",
          "text": [
            "Digite la cantidad de metros consmidos: 23\n",
            "Total por pagar:  9.15\n"
          ]
        }
      ]
    },
    {
      "cell_type": "markdown",
      "source": [
        "Ejercicio 3"
      ],
      "metadata": {
        "id": "mR1mPgt294P9"
      }
    },
    {
      "cell_type": "markdown",
      "source": [
        "Desarrolle la tabla de meses acumulados a n meses. Si puede encontrar la formula matemática para evitar ciclos. (10%)"
      ],
      "metadata": {
        "id": "El2KEIXT94Cf"
      }
    },
    {
      "cell_type": "code",
      "source": [
        "print(\"Ingrese cantidad que desea imprimir para obtener lo acumulado\")\n",
        "a = int(input())\n",
        "b = 0\n",
        "\n",
        "for i in range (1, a + 1):\n",
        "  print(i)\n",
        "  b = b + 1\n",
        "  print (\" La lista de valores acumulados que  solicita es :\",b)"
      ],
      "metadata": {
        "colab": {
          "base_uri": "https://localhost:8080/"
        },
        "id": "Qx2-FjXP9v8F",
        "outputId": "0d83b672-1467-4ece-b95f-748faebf45f8"
      },
      "execution_count": 16,
      "outputs": [
        {
          "output_type": "stream",
          "name": "stdout",
          "text": [
            "Ingrese cantidad que desea imprimir para obtener lo acumulado\n",
            "5\n",
            "1\n",
            " La lista de valores acumulados que  solicita es : 1\n",
            "2\n",
            " La lista de valores acumulados que  solicita es : 2\n",
            "3\n",
            " La lista de valores acumulados que  solicita es : 3\n",
            "4\n",
            " La lista de valores acumulados que  solicita es : 4\n",
            "5\n",
            " La lista de valores acumulados que  solicita es : 5\n"
          ]
        }
      ]
    },
    {
      "cell_type": "markdown",
      "source": [
        "Ejercicio 4\n"
      ],
      "metadata": {
        "id": "RpEHEPqs-MFH"
      }
    },
    {
      "cell_type": "markdown",
      "source": [
        "Monedas"
      ],
      "metadata": {
        "id": "OSwHXWZh_xvI"
      }
    },
    {
      "cell_type": "markdown",
      "source": [
        " Conversores: (40%) (10 ítems como mínimo por cada uno)\n",
        "• Monedas (Resuelto en clases)\n",
        "• Longitud\n",
        "• Masa\n",
        "• Almacenamiento\n",
        "• Tiempo \n",
        "• Volumen\n",
        "• Área"
      ],
      "metadata": {
        "id": "zh_nOo7S-L2i"
      }
    },
    {
      "cell_type": "code",
      "source": [
        "divisas = [\"Seleccione una divisa\", \"Dolares\", \n",
        "           \"Quetzalez\", \"Lempiras\", \"Cordobas\", \n",
        "           \"Pesos CR\", \"Euros\", \"Colon SV\", \n",
        "           \"Yenes\", \"Soles Peruanos\"\n",
        "]\n",
        "valores = [0,1, 7.71, 24.51, 35.77, 664.64, 0.98, 8.75, 134.13, 3.84]"
      ],
      "metadata": {
        "id": "G5IU6LEp9v5I"
      },
      "execution_count": null,
      "outputs": []
    },
    {
      "cell_type": "code",
      "source": [
        "def convertir(de, a, cantidad):\n",
        "  return valores [a] / valores [de] * cantidad"
      ],
      "metadata": {
        "id": "fyrudTUR9v19"
      },
      "execution_count": null,
      "outputs": []
    },
    {
      "cell_type": "code",
      "source": [
        "print(\"*** MENU ***\")\n",
        "print(\"SELECCIONE UNA DIVISA\")\n",
        "print(\"1. Dolares\")\n",
        "print(\"2. Quetzalez\")\n",
        "print(\"3. Lempiras\")\n",
        "print(\"4. Cordobas\")\n",
        "print(\"5. Pesos CR\")\n",
        "print(\"6. Euros\")\n",
        "print(\"7. Colon SV\")\n",
        "print(\"8. Yenes\")\n",
        "print(\"9. Soles Peruanos\")"
      ],
      "metadata": {
        "colab": {
          "base_uri": "https://localhost:8080/"
        },
        "id": "B2OjQcyX9vyx",
        "outputId": "3c055843-f91c-491f-d2e8-49bd13b6e42a"
      },
      "execution_count": null,
      "outputs": [
        {
          "output_type": "stream",
          "name": "stdout",
          "text": [
            "*** MENU ***\n",
            "SELECCIONE UNA DIVISA\n",
            "1. Dolares\n",
            "2. Quetzalez\n",
            "3. Lempiras\n",
            "4. Cordobas\n",
            "5. Pesos CR\n",
            "6. Euros\n",
            "7. Colon SV\n",
            "8. Yenes\n",
            "9. Soles Peruanos\n"
          ]
        }
      ]
    },
    {
      "cell_type": "code",
      "source": [
        "de = int(input(\"DE: \"))\n",
        "a = int(input(\"A: \"))\n",
        "cantidad = float(input(\"Cantidad: \"))\n",
        "\n",
        "print( divisas[de],  \" a \", divisas[a], \" es: \", convertir(de, a, cantidad) )"
      ],
      "metadata": {
        "colab": {
          "base_uri": "https://localhost:8080/"
        },
        "id": "WJIkuuN89vv9",
        "outputId": "af0a7015-ad26-4c6a-fbc0-adda449deff5"
      },
      "execution_count": null,
      "outputs": [
        {
          "output_type": "stream",
          "name": "stdout",
          "text": [
            "DE: 1\n",
            "A: 2\n",
            "Cantidad: 12\n",
            "Dolares  a  Quetzalez  es:  92.52\n"
          ]
        }
      ]
    },
    {
      "cell_type": "markdown",
      "source": [
        "Longitud"
      ],
      "metadata": {
        "id": "Ex8CcAbQ_1Zz"
      }
    },
    {
      "cell_type": "code",
      "source": [
        "divisas = [\"Seleccione una divisa\", \"metro\", \n",
        "           \"kilometro\", \"centimetros\", \"milimetro\", \n",
        "           \"yarda\", \"pie\", \"pulgadas\", \n",
        "           \"milla\", \"Milla nautica\", 'nanometro',\n",
        "]\n",
        "valores = [0,1, 0.001, 100, 1000, 1.09361, 3.28084, 39.3701, 0.000621371,0.000539957,1e+9 ]"
      ],
      "metadata": {
        "id": "D8OyFrBz9vso"
      },
      "execution_count": null,
      "outputs": []
    },
    {
      "cell_type": "code",
      "source": [
        "def convertir(de, a, cantidad):\n",
        "  return valores [de] / valores [a] * cantidad\n"
      ],
      "metadata": {
        "id": "nRekWQS79vpS"
      },
      "execution_count": null,
      "outputs": []
    },
    {
      "cell_type": "code",
      "source": [
        "print(\"*** MENU ***\")\n",
        "print(\"SELECCIONE UNA DIVISA\")\n",
        "print(\"1. metro\")\n",
        "print(\"2. Kilometro\")\n",
        "print(\"3. centimetros\")\n",
        "print(\"4. Milimetro\")\n",
        "print(\"5. Yarda\")\n",
        "print(\"6. Pie\")\n",
        "print(\"7. pulgada\")\n",
        "print(\"8. Milla\")\n",
        "print(\"9. Milla nautica\")\n",
        "print(\"10. Nanometro\")"
      ],
      "metadata": {
        "colab": {
          "base_uri": "https://localhost:8080/"
        },
        "id": "zGfV6v0D9vmc",
        "outputId": "a4954415-70ba-409e-c9f1-b8c68e0ddaa0"
      },
      "execution_count": null,
      "outputs": [
        {
          "output_type": "stream",
          "name": "stdout",
          "text": [
            "*** MENU ***\n",
            "SELECCIONE UNA DIVISA\n",
            "1. metro\n",
            "2. Kilometro\n",
            "3. centimetros\n",
            "4. Milimetro\n",
            "5. Yarda\n",
            "6. Pie\n",
            "7. pulgada\n",
            "8. Milla\n",
            "9. Milla nautica\n",
            "10. Nanometro\n"
          ]
        }
      ]
    },
    {
      "cell_type": "code",
      "source": [
        "a = int(input(\"DE: \"))\n",
        "de = int(input(\"A: \"))\n",
        "cantidad = float(input(\"Cantidad: \"))\n",
        "\n",
        "print( divisas[a],  \" a \", divisas[de], \" es: \", convertir(de, a, cantidad) )"
      ],
      "metadata": {
        "colab": {
          "base_uri": "https://localhost:8080/"
        },
        "id": "Ve7ByEri9vjf",
        "outputId": "b8d4f823-7b8c-4ca6-8637-0c2a6efb39a5"
      },
      "execution_count": null,
      "outputs": [
        {
          "output_type": "stream",
          "name": "stdout",
          "text": [
            "DE: 1\n",
            "A: 2\n",
            "Cantidad: 12\n",
            "metro  a  kilometro  es:  0.012\n"
          ]
        }
      ]
    },
    {
      "cell_type": "markdown",
      "source": [
        "Masa"
      ],
      "metadata": {
        "id": "-rIYZqK3_68k"
      }
    },
    {
      "cell_type": "code",
      "source": [
        "divisas = [\"Seleccione una divisa\", \"Tonelada\", \n",
        "           \"Kilogramo\", \"Gramo\", \"Miligramo\", \n",
        "           \"Microgramo\", \"Tonelada larga\", \"Tonela corta\", \n",
        "           \"Stone\", \"Libra\", 'Onza',\n",
        "\n",
        "]\n",
        "valores = [0,1, 1000, 1e+6, 1e+9, 1e+12, 0.984207, 1.10231, 157.473, 2204.62, 35274 ]"
      ],
      "metadata": {
        "id": "0FJSC-2V9vgs"
      },
      "execution_count": null,
      "outputs": []
    },
    {
      "cell_type": "code",
      "source": [
        "def convertir(de, a, cantidad):\n",
        "  return valores [de] / valores [a] * cantidad"
      ],
      "metadata": {
        "id": "mIzCnNmT9vdl"
      },
      "execution_count": null,
      "outputs": []
    },
    {
      "cell_type": "code",
      "source": [
        "print(\"*** MENU ***\")\n",
        "print(\"SELECCIONE UNA DIVISA\")\n",
        "print(\"1. Tonelada\")\n",
        "print(\"2. Kilogramo\")\n",
        "print(\"3. Gramo\")\n",
        "print(\"4. Miligramo\")\n",
        "print(\"5. Micrograma\")\n",
        "print(\"6. Tonelada larga\")\n",
        "print(\"7. Tonelada corta\")\n",
        "print(\"8. Stone\")\n",
        "print(\"9. Libra\")\n",
        "print(\"10. Onza\")"
      ],
      "metadata": {
        "colab": {
          "base_uri": "https://localhost:8080/"
        },
        "id": "KU88pLpw9vaR",
        "outputId": "b3c8c429-e8e4-47ec-a20b-35f990da8c69"
      },
      "execution_count": null,
      "outputs": [
        {
          "output_type": "stream",
          "name": "stdout",
          "text": [
            "*** MENU ***\n",
            "SELECCIONE UNA DIVISA\n",
            "1. Tonelada\n",
            "2. Kilogramo\n",
            "3. Gramo\n",
            "4. Miligramo\n",
            "5. Micrograma\n",
            "6. Tonelada larga\n",
            "7. Tonelada corta\n",
            "8. Stone\n",
            "9. Libra\n",
            "10. Onza\n"
          ]
        }
      ]
    },
    {
      "cell_type": "code",
      "source": [
        "a = int(input(\"DE: \"))\n",
        "de = int(input(\"A: \"))\n",
        "cantidad = float(input(\"Cantidad: \"))\n",
        "print( divisas[a],  \" a \", divisas[de], \" es: \", convertir(de, a, cantidad) )"
      ],
      "metadata": {
        "colab": {
          "base_uri": "https://localhost:8080/"
        },
        "id": "bRnMWDMD9vW9",
        "outputId": "4b8a9f3f-3b76-4b46-a667-0c536dcce10f"
      },
      "execution_count": null,
      "outputs": [
        {
          "output_type": "stream",
          "name": "stdout",
          "text": [
            "DE: 3\n",
            "A: 2\n",
            "Cantidad: 12\n",
            "Gramo  a  Kilogramo  es:  0.012\n"
          ]
        }
      ]
    },
    {
      "cell_type": "markdown",
      "source": [
        "Almacenamiento"
      ],
      "metadata": {
        "id": "rYacI9kO_83a"
      }
    },
    {
      "cell_type": "code",
      "source": [
        "divisas = [\"Seleccione una divisa\", \" Terabit\", \n",
        "           \"Mebibit\", \"Gibibit\", \"Gigabit\", \n",
        "           \"tebibit\", \"Petabyte\", \"Mebibyte\", \n",
        "           \"Megabyte\", \"Gigabyte\", 'Terabyte',\n",
        "]\n",
        "valores = [0,1, 953700, 931.3, 1000, 1.1, 8000, 119200, 125000,125,0.125 ]\n"
      ],
      "metadata": {
        "id": "wcQTqjlU9vS4"
      },
      "execution_count": null,
      "outputs": []
    },
    {
      "cell_type": "code",
      "source": [
        "def convertir(de, a, cantidad):\n",
        "  return valores [de] / valores [a] * cantidad\n"
      ],
      "metadata": {
        "id": "Bgx5pvzv-6By"
      },
      "execution_count": null,
      "outputs": []
    },
    {
      "cell_type": "code",
      "source": [
        "print(\"*** MENU ***\")\n",
        "print(\"SELECCIONE UNA DIVISA\")\n",
        "print(\"1. Terabit\")\n",
        "print(\"2. Mebibit\")\n",
        "print(\"3. Gibibit\")\n",
        "print(\"4. Gigabit\")\n",
        "print(\"5. Tebibit\")\n",
        "print(\"6. Petabyte\")\n",
        "print(\"7. Mebibyte\")\n",
        "print(\"8. Megabyte\")\n",
        "print(\"9. Gygabyte\")\n",
        "print(\"10.Terabyte\")"
      ],
      "metadata": {
        "colab": {
          "base_uri": "https://localhost:8080/"
        },
        "id": "REoWQj8S-5_D",
        "outputId": "2811da5b-4d41-4981-a319-8510a816e30e"
      },
      "execution_count": null,
      "outputs": [
        {
          "output_type": "stream",
          "name": "stdout",
          "text": [
            "*** MENU ***\n",
            "SELECCIONE UNA DIVISA\n",
            "1. Terabit\n",
            "2. Mebibit\n",
            "3. Gibibit\n",
            "4. Gigabit\n",
            "5. Tebibit\n",
            "6. Petabyte\n",
            "7. Mebibyte\n",
            "8. Megabyte\n",
            "9. Gygabyte\n",
            "10.Terabyte\n"
          ]
        }
      ]
    },
    {
      "cell_type": "code",
      "source": [
        "a = int(input(\"DE: \"))\n",
        "de = int(input(\"A: \"))\n",
        "cantidad = float(input(\"Cantidad: \"))\n",
        "\n",
        "print( divisas[a],  \" a \", divisas[de], \" es: \", convertir(de, a, cantidad) )"
      ],
      "metadata": {
        "colab": {
          "base_uri": "https://localhost:8080/"
        },
        "id": "9w64NUKt-56c",
        "outputId": "3e50b4bd-5cba-4790-948c-7da03019b864"
      },
      "execution_count": null,
      "outputs": [
        {
          "output_type": "stream",
          "name": "stdout",
          "text": [
            "DE: 5\n",
            "A: 6\n",
            "Cantidad: 246\n",
            "tebibit  a  Petabyte  es:  1789090.909090909\n"
          ]
        }
      ]
    },
    {
      "cell_type": "markdown",
      "source": [
        "Tiempo"
      ],
      "metadata": {
        "id": "70hHKK4cAAAz"
      }
    },
    {
      "cell_type": "code",
      "source": [
        "divisas = [\"Seleccione una divisa\", \" Segundo\", \n",
        "           \"Milisegundo\", \"Minuto\", \"Hora\", \n",
        "           \"Dia\", \"Semana\", \"Mes\", \n",
        "           \"Año\", \"Decada\", 'Siglo',\n",
        "]\n",
        "valores = [0,1, 1000, 0.0166667, 0.000277778,1.1574e-5, 1.6534e-6, 3.8052e-7, 3.171e-8,3.171e-9,3.171e-10 ]"
      ],
      "metadata": {
        "id": "e7OpSY5A-53R"
      },
      "execution_count": null,
      "outputs": []
    },
    {
      "cell_type": "code",
      "source": [
        "def convertir(de, a, cantidad):\n",
        "  return valores [de] / valores [a] * cantidad"
      ],
      "metadata": {
        "id": "2cKAE5Rz-50e"
      },
      "execution_count": null,
      "outputs": []
    },
    {
      "cell_type": "code",
      "source": [
        "print(\"*** MENU ***\")\n",
        "print(\"SELECCIONE UNA DIVISA\")\n",
        "print(\"1. Segundo\")\n",
        "print(\"2. Milesegundo\")\n",
        "print(\"3. Minuto\")\n",
        "print(\"4. Hora\")\n",
        "print(\"5. Dia\")\n",
        "print(\"6. Semana\")\n",
        "print(\"7. Mes\")\n",
        "print(\"8. Año\")\n",
        "print(\"9. Decada\")\n",
        "print(\"10.Siglo\")"
      ],
      "metadata": {
        "colab": {
          "base_uri": "https://localhost:8080/"
        },
        "id": "m30b8kJ_-5xw",
        "outputId": "8a33d653-36b5-49f2-a64b-230665f593a5"
      },
      "execution_count": null,
      "outputs": [
        {
          "output_type": "stream",
          "name": "stdout",
          "text": [
            "*** MENU ***\n",
            "SELECCIONE UNA DIVISA\n",
            "1. Segundo\n",
            "2. Milesegundo\n",
            "3. Minuto\n",
            "4. Hora\n",
            "5. Dia\n",
            "6. Semana\n",
            "7. Mes\n",
            "8. Año\n",
            "9. Decada\n",
            "10.Siglo\n"
          ]
        }
      ]
    },
    {
      "cell_type": "code",
      "source": [
        "a = int(input(\"DE: \"))\n",
        "de = int(input(\"A: \"))\n",
        "cantidad = float(input(\"Cantidad: \"))\n",
        "\n",
        "print( divisas[a],  \" a \", divisas[de], \" es: \", convertir(de, a, cantidad) )"
      ],
      "metadata": {
        "colab": {
          "base_uri": "https://localhost:8080/"
        },
        "id": "3903b4xo-5uq",
        "outputId": "0c045aa0-2913-48ef-be63-a9108856f1fb"
      },
      "execution_count": null,
      "outputs": [
        {
          "output_type": "stream",
          "name": "stdout",
          "text": [
            "DE: 5\n",
            "A: 3\n",
            "Cantidad: 135\n",
            "Dia  a  Minuto  es:  194401.63297045103\n"
          ]
        }
      ]
    },
    {
      "cell_type": "markdown",
      "source": [
        "Volumen"
      ],
      "metadata": {
        "id": "UCB4jdnEADw0"
      }
    },
    {
      "cell_type": "code",
      "source": [
        "divisas = [\"Seleccione una divisa\", \"Litro\", \n",
        "           \"Mililitro\", \"Galón\", \"Cuarto\", \n",
        "           \"Pinta\", \"Taza\", \"Onza líquida\", \n",
        "           \"Cucharada\", \"Cucharadita\", 'Pie cúbico',\n",
        "]\n",
        "valores = [0,1, 1000, 0.219969, 0.879877, 1.75975, 3.51951, 35.1951, 56.3121, 168.936, 0.0353147 ]"
      ],
      "metadata": {
        "id": "E3Hb9Jpo-5sA"
      },
      "execution_count": null,
      "outputs": []
    },
    {
      "cell_type": "code",
      "source": [
        "def convertir(de, a, cantidad):\n",
        "  return valores [de] / valores [a] * cantidad"
      ],
      "metadata": {
        "id": "nFefSFjS-5pN"
      },
      "execution_count": null,
      "outputs": []
    },
    {
      "cell_type": "code",
      "source": [
        "print(\"*** MENU ***\")\n",
        "print(\"SELECCIONE UNA DIVISA\")\n",
        "print(\"1. Litro\")\n",
        "print(\"2. Mililitro\")\n",
        "print(\"3. Galón\")\n",
        "print(\"4. Cuarto\")\n",
        "print(\"5. Pinta\")\n",
        "print(\"6. Taza\")\n",
        "print(\"7. Onza liquida\")\n",
        "print(\"8. Cucharada\")\n",
        "print(\"9. Cucharadita\")\n",
        "print(\"10. Pie cúbico\")"
      ],
      "metadata": {
        "colab": {
          "base_uri": "https://localhost:8080/"
        },
        "id": "UQ5GMbhr-5lK",
        "outputId": "3a8c73f8-adcd-4b47-f609-2c4d6629cbb5"
      },
      "execution_count": null,
      "outputs": [
        {
          "output_type": "stream",
          "name": "stdout",
          "text": [
            "*** MENU ***\n",
            "SELECCIONE UNA DIVISA\n",
            "1. Litro\n",
            "2. Mililitro\n",
            "3. Galón\n",
            "4. Cuarto\n",
            "5. Pinta\n",
            "6. Taza\n",
            "7. Onza liquida\n",
            "8. Cucharada\n",
            "9. Cucharadita\n",
            "10. Pie cúbico\n"
          ]
        }
      ]
    },
    {
      "cell_type": "code",
      "source": [
        "a = int(input(\"DE: \"))\n",
        "de = int(input(\"A: \"))\n",
        "cantidad = float(input(\"Cantidad: \"))\n",
        "print( divisas[a],  \" a \", divisas[de], \" es: \", convertir(de, a, cantidad) )\n"
      ],
      "metadata": {
        "colab": {
          "base_uri": "https://localhost:8080/"
        },
        "id": "ZCvH-ecS-5d5",
        "outputId": "d72c2661-fdc0-4435-ed7b-a98871b6f86b"
      },
      "execution_count": null,
      "outputs": [
        {
          "output_type": "stream",
          "name": "stdout",
          "text": [
            "DE: 6\n",
            "A: 3\n",
            "Cantidad: 356\n",
            "Taza  a  Galón  es:  22.24996206858341\n"
          ]
        }
      ]
    },
    {
      "cell_type": "markdown",
      "source": [
        "Área"
      ],
      "metadata": {
        "id": "pjykm2BnAJLb"
      }
    },
    {
      "cell_type": "code",
      "source": [
        "divisas = [\"Seleccione una divisa\", \"Hectarea\", \n",
        "           \"Kilometro cuadrado\", \"Metro Cuadrado\", \"Milla cuadrada\", \n",
        "           \"Yarda cuadrada\", \"Pie cuadrado\", \"Pulgada cuadrada\", \n",
        "           \"Acre\",\n",
        "]\n",
        "valores = [0,1, 0.01, 10000, 0.00386102, 11959.9, 107639, 1.55e+7, 2.47105 ]\n"
      ],
      "metadata": {
        "id": "nVI81qWE-5aO"
      },
      "execution_count": 18,
      "outputs": []
    },
    {
      "cell_type": "code",
      "source": [
        "def convertir(de, a, cantidad):\n",
        "  return valores [de] / valores [a] * cantidad"
      ],
      "metadata": {
        "id": "JueJscWE_gVj"
      },
      "execution_count": 19,
      "outputs": []
    },
    {
      "cell_type": "code",
      "source": [
        "print(\"*** MENU ***\")\n",
        "print(\"SELECCIONE UNA DIVISA\")\n",
        "print(\"1. Hectarea\")\n",
        "print(\"2. Kilometro cuadrado\")\n",
        "print(\"3. Metro cuadrado\")\n",
        "print(\"4. Milla cuadrada\")\n",
        "print(\"5. Yarda cuadrada\")\n",
        "print(\"6. Pie cuadrado\")\n",
        "print(\"7. Pulgada cuadrada\")\n",
        "print(\"8. Acre\")"
      ],
      "metadata": {
        "colab": {
          "base_uri": "https://localhost:8080/"
        },
        "id": "S_r4uFmk_gMr",
        "outputId": "7e03ff86-3b81-4d17-c957-597d83d80b7a"
      },
      "execution_count": 20,
      "outputs": [
        {
          "output_type": "stream",
          "name": "stdout",
          "text": [
            "*** MENU ***\n",
            "SELECCIONE UNA DIVISA\n",
            "1. Hectarea\n",
            "2. Kilometro cuadrado\n",
            "3. Metro cuadrado\n",
            "4. Milla cuadrada\n",
            "5. Yarda cuadrada\n",
            "6. Pie cuadrado\n",
            "7. Pulgada cuadrada\n",
            "8. Acre\n"
          ]
        }
      ]
    },
    {
      "cell_type": "code",
      "source": [
        "a = int(input(\"DE: \"))\n",
        "de = int(input(\"A: \"))\n",
        "cantidad = float(input(\"Cantidad: \"))\n",
        "print( divisas[a],  \" a \", divisas[de], \" es: \", convertir(de, a, cantidad) )"
      ],
      "metadata": {
        "colab": {
          "base_uri": "https://localhost:8080/"
        },
        "id": "qA0X86lf_gDj",
        "outputId": "d08dba0c-5e18-49b9-f17d-eee6cb2b46f4"
      },
      "execution_count": 21,
      "outputs": [
        {
          "output_type": "stream",
          "name": "stdout",
          "text": [
            "DE: 1\n",
            "A: 4\n",
            "Cantidad: 15\n",
            "Hectarea  a  Milla cuadrada  es:  0.0579153\n"
          ]
        }
      ]
    },
    {
      "cell_type": "markdown",
      "source": [
        "Ejercicio 5\n"
      ],
      "metadata": {
        "id": "igpLJrSB8osh"
      }
    },
    {
      "cell_type": "markdown",
      "source": [
        "Realizar un conversor propio, donde especifique el valor de conversión: (10%) • 1 caja -> 25 unidad. Viceversa 80 unidades – 3/5 -> cajas/unidades • 1 saco -> 50 libras. Viceversa 130 libras – 2/30 -> sacos/libras • 1 fardo -> 5 unidades. Viceversa 28 unidades – 5/3 -> fardos/unidades"
      ],
      "metadata": {
        "id": "YfrGOAhrAR8R"
      }
    },
    {
      "cell_type": "code",
      "source": [
        "divisas = [  0, [\"Seleccione una opción a convertir\", \"1. Caja\", \"2. Unidades\"], [\"Seleccione una opción a convertir\", \"1. Saco\", \"2. Libras\"], [\"Seleccione una opción a convertir\", \"1. Fardo\", \"2. Unidades\"]]\n",
        "\n",
        "valor = [0, [0, 1, 25], [0, 1, 50], [0, 1, 5], ]"
      ],
      "metadata": {
        "id": "lR1zhw7IAUYp"
      },
      "execution_count": 22,
      "outputs": []
    },
    {
      "cell_type": "code",
      "source": [
        "def convertir(Selección, de, a, cantidad):\n",
        "  return valor[Selección][a] / valor[Selección][de] * cantidad"
      ],
      "metadata": {
        "id": "SwfxJsbIAWTK"
      },
      "execution_count": 23,
      "outputs": []
    },
    {
      "cell_type": "code",
      "source": [
        "print(\"Menú\")\n",
        "print(\"1. Cajas/Unidades\")\n",
        "print(\"2. Sacos/Libras\")\n",
        "print(\"3. Fardo/Unidades\")"
      ],
      "metadata": {
        "colab": {
          "base_uri": "https://localhost:8080/"
        },
        "id": "5rTZxJpLAYbf",
        "outputId": "a58a7dcb-d9f7-4ec9-ff39-30f89b15a905"
      },
      "execution_count": 24,
      "outputs": [
        {
          "output_type": "stream",
          "name": "stdout",
          "text": [
            "Menú\n",
            "1. Cajas/Unidades\n",
            "2. Sacos/Libras\n",
            "3. Fardo/Unidades\n"
          ]
        }
      ]
    },
    {
      "cell_type": "code",
      "source": [
        "Selección = int(input(\"Seleccionado: \"))\n",
        "\n",
        "print(divisas[Selección] )\n",
        "de = int(input(\"DE: \"))\n",
        "a = int(input(\"A: \"))\n",
        "cantidad = float(input(\"Cantidad: \"))\n",
        "\n",
        "print(divisas[Selección][de], \" en \", divisas[Selección][a], \" es igual a: \", convertir(Selección, de, a, cantidad) )"
      ],
      "metadata": {
        "colab": {
          "base_uri": "https://localhost:8080/"
        },
        "id": "NTe9-dalAbKc",
        "outputId": "99c60dbf-f6ac-444c-ba3b-3d9f72f6f4b7"
      },
      "execution_count": 27,
      "outputs": [
        {
          "output_type": "stream",
          "name": "stdout",
          "text": [
            "Seleccionado: 1\n",
            "['Seleccione una opción a convertir', '1. Caja', '2. Unidades']\n",
            "DE: 1\n",
            "A: 2\n",
            "Cantidad: 12\n",
            "1. Caja  en  2. Unidades  es igual a:  300.0\n"
          ]
        }
      ]
    }
  ]
}