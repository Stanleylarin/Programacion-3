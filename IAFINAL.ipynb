{
  "nbformat": 4,
  "nbformat_minor": 0,
  "metadata": {
    "colab": {
      "private_outputs": true,
      "provenance": [],
      "collapsed_sections": [],
      "include_colab_link": true
    },
    "kernelspec": {
      "name": "python3",
      "display_name": "Python 3"
    },
    "language_info": {
      "name": "python"
    },
    "accelerator": "GPU"
  },
  "cells": [
    {
      "cell_type": "markdown",
      "metadata": {
        "id": "view-in-github",
        "colab_type": "text"
      },
      "source": [
        "<a href=\"https://colab.research.google.com/github/Stanleylarin/Programacion-3/blob/main/IAFINAL.ipynb\" target=\"_parent\"><img src=\"https://colab.research.google.com/assets/colab-badge.svg\" alt=\"Open In Colab\"/></a>"
      ]
    },
    {
      "cell_type": "code",
      "execution_count": null,
      "metadata": {
        "id": "8Aalr2lqtMAw"
      },
      "outputs": [],
      "source": [
        "#1. Importar las librerias.\n",
        "import tensorflow as tf\n",
        "import matplotlib.pyplot as plt\n",
        "import numpy as np\n",
        "import math\n",
        "import tensorflow_datasets as tfds\n"
      ]
    },
    {
      "cell_type": "code",
      "source": [
        "#2. Cargamos el dataset\n",
        "dataset, metadata = tfds.load('fashion_mnist', as_supervised=True, with_info=True)\n",
        "#print(dataset[\"train\"])\n",
        "datos_entrenamiento, datos_prueba = dataset[\"train\"], dataset[\"test\"]"
      ],
      "metadata": {
        "id": "mCBVwMYutUtp"
      },
      "execution_count": null,
      "outputs": []
    },
    {
      "cell_type": "code",
      "source": [
        "\n",
        "for img in datos_entrenamiento.take(1):\n",
        "  print(img)\n",
        "  img = img[0].numpy().reshape(1,28,28,1)\n",
        "  plt.grid(False)\n",
        "  plt.imshow(img[0, ..., 0], cmap=plt.cm.binary)"
      ],
      "metadata": {
        "id": "_PxyX75htZdt"
      },
      "execution_count": null,
      "outputs": []
    },
    {
      "cell_type": "code",
      "source": [
        "#3. #asignar las etiquetas son 10\n",
        "numeros_letras = [\"Camistea\", \"Pantalon\", \"abrigo\", \"Vestido\", \"Sueter\", \"Sandalias\", \"Camisa\", \"Zapatos Deportivos\", \"Bolso\", \"Botas\"]"
      ],
      "metadata": {
        "id": "289bwc6ctcKa"
      },
      "execution_count": null,
      "outputs": []
    },
    {
      "cell_type": "code",
      "source": [
        "#4. obtener la cantidad de datos.\n",
        "#print(metadata)\n",
        "cantidad_numeros_entrenamiento = metadata.splits[\"train\"].num_examples\n",
        "cantidad_numeros_prueba = metadata.splits[\"test\"].num_examples\n",
        "print(cantidad_numeros_entrenamiento, cantidad_numeros_prueba)"
      ],
      "metadata": {
        "id": "i1h3L7J-tioo"
      },
      "execution_count": null,
      "outputs": []
    },
    {
      "cell_type": "code",
      "source": [
        "#5. funcion normalizadora de los pixeles de 0 - 255 que sean valores de 0 - 1\n",
        "def normalizacion(img, label):\n",
        "  img = tf.cast(img, tf.float32)\n",
        "  img /= 255 #236/255 = 0.004237288\n",
        "  return img, label"
      ],
      "metadata": {
        "id": "QUWfKwMStlG6"
      },
      "execution_count": null,
      "outputs": []
    },
    {
      "cell_type": "code",
      "source": [
        "#6. Llamamos la funcion normlizadora\n",
        "datos_entrenamiento = datos_entrenamiento.map(normalizacion)\n",
        "datos_prueba = datos_prueba.map(normalizacion)\n",
        "\n",
        "#for img in datos_entrenamiento.take(1):\n",
        "  #print(img[0])#5.58150468e-08 => 0.0000000558150468"
      ],
      "metadata": {
        "id": "_mWzA-Uztnps"
      },
      "execution_count": null,
      "outputs": []
    },
    {
      "cell_type": "code",
      "source": [
        "#7 arquitectura de la red neuronal\n",
        "modelo = tf.keras.Sequential([\n",
        "    tf.keras.layers.Flatten(input_shape=(28,28,1)),\n",
        "    tf.keras.layers.Dense(64, activation=tf.nn.relu),\n",
        "    tf.keras.layers.Dense(64, activation=tf.nn.relu),\n",
        "    tf.keras.layers.Dense(10, activation=tf.nn.softmax)\n",
        "])"
      ],
      "metadata": {
        "id": "9V6uo91zAGvE"
      },
      "execution_count": null,
      "outputs": []
    },
    {
      "cell_type": "code",
      "source": [
        "#8 compilacion del modelo\n",
        "modelo.compile(\n",
        "    optimizer=\"adam\",\n",
        "    loss=\"sparse_categorical_crossentropy\",\n",
        "    metrics=['accuracy']\n",
        ")"
      ],
      "metadata": {
        "id": "X5WtLBHcAKE5"
      },
      "execution_count": null,
      "outputs": []
    },
    {
      "cell_type": "code",
      "source": [
        "#9 entrenamiento de la red neuronal\n",
        "size_lote = 32\n",
        "datos_entrenamiento = datos_entrenamiento.repeat().shuffle(cantidad_numeros_entrenamiento).batch(size_lote)\n",
        "datos_prueba= datos_prueba.repeat().shuffle(cantidad_numeros_prueba).batch(size_lote)"
      ],
      "metadata": {
        "id": "ZBrriObvANPU"
      },
      "execution_count": null,
      "outputs": []
    },
    {
      "cell_type": "code",
      "source": [
        "#10 Realizamos el entrenamiento\n",
        "modelo.fit(datos_entrenamiento, epochs=10,\n",
        "           steps_per_epoch=math.ceil(cantidad_numeros_entrenamiento/size_lote))"
      ],
      "metadata": {
        "id": "rYbBfo1MEauP"
      },
      "execution_count": null,
      "outputs": []
    },
    {
      "cell_type": "code",
      "source": [
        "test_loss, test_accuracy =modelo.evaluate(datos_prueba, steps=math.ceil(cantidad_numeros_entrenamiento/size_lote))\n",
        "print(\"Resultado de las pruebas\", test_loss, test_accuracy)"
      ],
      "metadata": {
        "id": "re-2KmC_GBC0"
      },
      "execution_count": null,
      "outputs": []
    },
    {
      "cell_type": "code",
      "source": [
        "def graficar_imagen(i, predictions_array,true_labels,images):\n",
        "  predictions_array, true_labels, img = predictions_array[i],true_labels[i],images[i]\n",
        "  plt.grid(False)\n",
        "  plt.xticks([])\n",
        "  plt.yticks([])\n",
        "  plt.imshow(img[...,0],cmap=plt.cm.binary)\n",
        "\n",
        "  predicted_label = np.argmax(predictions_array)\n",
        "  print(predicted_label)\n",
        "  if predicted_label == true_labels:\n",
        "   color = 'blue'\n",
        "  #else:\n",
        "   plt.xlabel(\"Prediccion: {}\".format(numeros_letras[predicted_label]), color=color)"
      ],
      "metadata": {
        "id": "_uiykRnyGQqI"
      },
      "execution_count": null,
      "outputs": []
    },
    {
      "cell_type": "code",
      "source": [
        "!unzip Ropa.zip"
      ],
      "metadata": {
        "id": "C6zulnlL37dM"
      },
      "execution_count": null,
      "outputs": []
    },
    {
      "cell_type": "code",
      "source": [
        "for imagenes_prueba, etiquetas_prueba in datos_prueba.take(1):\n",
        "  imagenes_prueba=imagenes_prueba.numpy()\n",
        "  etiquetas_prueba = etiquetas_prueba.numpy()\n",
        "  predicciones = modelo.predict(imagenes_prueba)\n",
        "\n",
        "def graficar_valores_array(i, predictions_array, true_label):\n",
        "  predictions_array, true_label = predictions_array[i],true_label[i]\n",
        "  plt.grid(False)\n",
        "  plt.xticks([])\n",
        "  plt.yticks([])\n",
        "  thisplot = plt.bar(range(10), predictions_array, color=\"#888888\")\n",
        "  plt.ylim([0,1])\n",
        "  predicted_label = np.argmax(predictions_array)\n",
        "  plt.ylim([0,1])\n",
        "  predicted_label = np.argmax(predictions_array)\n",
        "\n",
        "  thisplot[predicted_label].set_color('red')\n",
        "  thisplot[true_label].set_color('blue')"
      ],
      "metadata": {
        "id": "jBLVkU5qGVut"
      },
      "execution_count": null,
      "outputs": []
    },
    {
      "cell_type": "code",
      "source": [
        "numrows=5\n",
        "numcols=3\n",
        "numimages = numrows*numcols\n",
        "\n",
        "\n",
        "plt.figure(figsize=(2*2*numcols,2*numrows))\n",
        "for i in range(numimages):\n",
        "  plt.subplot(numrows,  2*numcols,  2*i+1)\n",
        "  graficar_imagen(i, predicciones, etiquetas_prueba, imagenes_prueba)\n",
        "  plt.subplot(numrows, 2*numcols,2*i+2)\n",
        "  graficar_valores_array(i,predicciones,etiquetas_prueba)\n",
        "\n",
        "\n",
        "plt.show()"
      ],
      "metadata": {
        "id": "kVuERtGYGYc1"
      },
      "execution_count": null,
      "outputs": []
    },
    {
      "cell_type": "code",
      "source": [
        "#val_ds = tf.keras.utils.image_dataset_from_directory('/content/NuevosDatos',image_size=(28,28),color_mode='grayscale')\n",
        "#class_names=val_ds.class_names\n",
        "#val_ds=val_ds.map(normalizacion)\n",
        "#datos_prueba= datos_prueba.repeat().shuffle(10).batch(size_lote)"
      ],
      "metadata": {
        "id": "8mMt1pAaCd3a"
      },
      "execution_count": null,
      "outputs": []
    },
    {
      "cell_type": "code",
      "source": [
        "#numeros_letras1 = [\"Abrigo\", \"Bolso\", \"Botas\", \"Camisa\", \"Camiseta\", \"Pantalon\", \"Sandalias\", \"Sueter\",\"Vestido\", \"Zapatos Deportivos\"]\n",
        "#def graficar_imagen1(i, predictions_array,true_labels,images):\n",
        "  #predictions_array, true_labels, img = predictions_array[i],true_labels[i],images[i]\n",
        "  #plt.grid(False)\n",
        "  #plt.xticks([])\n",
        "  #plt.yticks([])\n",
        "  #plt.imshow(img[...,0],cmap=plt.cm.binary)\n",
        "\n",
        "  #predicted_label = np.argmax(predictions_array)\n",
        "  #print(predicted_label)\n",
        "  #if predicted_label == true_labels:\n",
        "   #color = 'blue'\n",
        "  # plt.xlabel(\"Prediccion: {}\".format(numeros_letras1[predicted_label]), color=color)"
      ],
      "metadata": {
        "id": "SkdglsouUh_z"
      },
      "execution_count": null,
      "outputs": []
    },
    {
      "cell_type": "code",
      "source": [
        "\n",
        "#for imagenespropias,etiquetas_prueba1 in val_ds.take(1):\n",
        "  #imagenespropias=imagenespropias.numpy()\n",
        "  #etiquetas_prueba1=etiquetas_prueba1.numpy()\n",
        " # predicciones1 = modelo.predict(imagenespropias)\n",
        "\n",
        "\n",
        "#def graficar_valores_array1(i, predictions_array, true_label):\n",
        "  #predictions_array, true_label = predictions_array[i],true_label[i]\n",
        "  #plt.grid(False)\n",
        "  #plt.xticks([])\n",
        "  #plt.yticks([])\n",
        "  #thisplot = plt.bar(range(10), predictions_array, color=\"#888888\")\n",
        "  #plt.ylim([0,1])\n",
        "  #predicted_label = np.argmax(predictions_array)\n",
        "  #plt.ylim([0,1])\n",
        "  #predicted_label = np.argmax(predictions_array)\n",
        "\n",
        "  #thisplot[predicted_label].set_color('red')\n",
        "  #thisplot[true_label].set_color('blue')"
      ],
      "metadata": {
        "id": "UuvNeTctpep5"
      },
      "execution_count": null,
      "outputs": []
    },
    {
      "cell_type": "code",
      "source": [
        "#numrows=5\n",
        "#numcols=3\n",
        "#numimages = 10\n",
        "\n",
        "#plt.figure(figsize=(2*2*numcols,2*numrows))\n",
        "#for i in range(numimages):\n",
        " # plt.subplot(numrows,  2*numcols,  2*i+1)\n",
        " # graficar_imagen1(i, predicciones1, etiquetas_prueba1, imagenespropias)\n",
        " # plt.subplot(numrows, 2*numcols,2*i+2)\n",
        "  #graficar_valores_array(i,predicciones1,etiquetas_prueba1)\n",
        "#plt.show()"
      ],
      "metadata": {
        "id": "PMlmifzzpQjy"
      },
      "execution_count": null,
      "outputs": []
    },
    {
      "cell_type": "code",
      "source": [
        "import cv2\n",
        "datos=[\"img.png\", \"img1.png\", \"img2.png\", \"img3.png\", \"img4.png\", \"img5.png\", \"img6.png\", \"img7.png\",\"img8.png\", \"img9.png\"]\n",
        "plt.figure(figsize=(4*2*numcols,4*numrows))\n",
        "for indice in range(10):\n",
        "\n",
        "  plt.subplot(numrows, 3*numcols,  3*indice+1)\n",
        "  imagenn=cv2.imread(datos[indice],cv2.IMREAD_GRAYSCALE)\n",
        "  plt.subplot(numrows, 2*numcols,2*indice+1)\n",
        "  plt.xticks([])\n",
        "  plt.yticks([])\n",
        "  imagenn=cv2.resize(imagenn,(28,28))\n",
        "  img_predic=modelo.predict(imagenn.reshape(1,28,28,1))\n",
        "\n",
        "  valor_prediccion=np.argmax(img_predic)\n",
        "  plt.imshow(imagenn,cmap=plt.cm.binary)\n",
        "  plt.xlabel(\"Prediccion: {}\".format(numeros_letras[valor_prediccion]),color=\"blue\")\n",
        "\n",
        "plt.show\n",
        " \n"
      ],
      "metadata": {
        "id": "Fkm1_0jPW5-U"
      },
      "execution_count": null,
      "outputs": []
    }
  ]
}