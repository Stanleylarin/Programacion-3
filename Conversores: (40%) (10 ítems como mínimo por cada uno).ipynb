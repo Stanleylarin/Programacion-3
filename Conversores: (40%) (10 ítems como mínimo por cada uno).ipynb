{
  "nbformat": 4,
  "nbformat_minor": 0,
  "metadata": {
    "colab": {
      "name": "Untitled2.ipynb",
      "provenance": [],
      "toc_visible": true,
      "authorship_tag": "ABX9TyOKa53NTzBvDdMZI84x3Rgg",
      "include_colab_link": true
    },
    "kernelspec": {
      "name": "python3",
      "display_name": "Python 3"
    },
    "language_info": {
      "name": "python"
    }
  },
  "cells": [
    {
      "cell_type": "markdown",
      "metadata": {
        "id": "view-in-github",
        "colab_type": "text"
      },
      "source": [
        "<a href=\"https://colab.research.google.com/github/Stanleylarin/Programacion-3/blob/main/Conversores%3A%20(40%25)%20(10%20%C3%ADtems%20como%20m%C3%ADnimo%20por%20cada%20uno).ipynb\" target=\"_parent\"><img src=\"https://colab.research.google.com/assets/colab-badge.svg\" alt=\"Open In Colab\"/></a>"
      ]
    },
    {
      "cell_type": "markdown",
      "source": [
        "Monedas \n"
      ],
      "metadata": {
        "id": "RHZbtDlC4Kh4"
      }
    },
    {
      "cell_type": "code",
      "source": [
        "divisas = [\"Seleccione una divisa\", \"Dolares\", \n",
        "           \"Quetzalez\", \"Lempiras\", \"Cordobas\", \n",
        "           \"Pesos CR\", \"Euros\", \"Colon SV\", \n",
        "           \"Yenes\", \"Soles Peruanos\"\n",
        "]\n",
        "valores = [0,1, 7.71, 24.51, 35.77, 664.64, 0.98, 8.75, 134.13, 3.84]"
      ],
      "metadata": {
        "id": "Zn9C4m-i2C_L"
      },
      "execution_count": 11,
      "outputs": []
    },
    {
      "cell_type": "code",
      "source": [
        "def convertir(de, a, cantidad):\n",
        "  return valores [a] / valores [de] * cantidad"
      ],
      "metadata": {
        "id": "JyALt0Rm2Iv7"
      },
      "execution_count": 12,
      "outputs": []
    },
    {
      "cell_type": "code",
      "source": [
        "print(\"*** MENU ***\")\n",
        "print(\"SELECCIONE UNA DIVISA\")\n",
        "print(\"1. Dolares\")\n",
        "print(\"2. Quetzalez\")\n",
        "print(\"3. Lempiras\")\n",
        "print(\"4. Cordobas\")\n",
        "print(\"5. Pesos CR\")\n",
        "print(\"6. Euros\")\n",
        "print(\"7. Colon SV\")\n",
        "print(\"8. Yenes\")\n",
        "print(\"9. Soles Peruanos\")"
      ],
      "metadata": {
        "colab": {
          "base_uri": "https://localhost:8080/"
        },
        "id": "3Sve9TSE2ihB",
        "outputId": "e196feeb-6f7f-4955-ce3f-9a398243049a"
      },
      "execution_count": 3,
      "outputs": [
        {
          "output_type": "stream",
          "name": "stdout",
          "text": [
            "*** MENU ***\n",
            "SELECCIONE UNA DIVISA\n",
            "1. Dolares\n",
            "2. Quetzalez\n",
            "3. Lempiras\n",
            "4. Cordobas\n",
            "5. Pesos CR\n",
            "6. Euros\n",
            "7. Colon SV\n",
            "8. Yenes\n",
            "9. Soles Peruanos\n"
          ]
        }
      ]
    },
    {
      "cell_type": "code",
      "source": [
        "de = int(input(\"DE: \"))\n",
        "a = int(input(\"A: \"))\n",
        "cantidad = float(input(\"Cantidad: \"))\n",
        "\n",
        "print( divisas[de],  \" a \", divisas[a], \" es: \", convertir(de, a, cantidad) )\n"
      ],
      "metadata": {
        "colab": {
          "base_uri": "https://localhost:8080/"
        },
        "id": "1p2mD3ZW2mr5",
        "outputId": "589441d6-b20c-484f-97a0-99e00c06db60"
      },
      "execution_count": 13,
      "outputs": [
        {
          "output_type": "stream",
          "name": "stdout",
          "text": [
            "DE: 9\n",
            "A: 1\n",
            "Cantidad: 20\n",
            "Soles Peruanos  a  Dolares  es:  5.208333333333334\n"
          ]
        }
      ]
    },
    {
      "cell_type": "markdown",
      "source": [
        "Longitud"
      ],
      "metadata": {
        "id": "6APxp6s_4W90"
      }
    },
    {
      "cell_type": "code",
      "source": [
        "divisas = [\"Seleccione una divisa\", \"metro\", \n",
        "           \"kilometro\", \"centimetros\", \"milimetro\", \n",
        "           \"yarda\", \"pie\", \"pulgadas\", \n",
        "           \"milla\", \"Milla nautica\", 'nanometro',\n",
        "]\n",
        "valores = [0,1, 0.001, 100, 1000, 1.09361, 3.28084, 39.3701, 0.000621371,0.000539957,1e+9 ]"
      ],
      "metadata": {
        "id": "F3q9H4NE4eM9"
      },
      "execution_count": 58,
      "outputs": []
    },
    {
      "cell_type": "code",
      "source": [
        "def convertir(de, a, cantidad):\n",
        "  return valores [de] / valores [a] * cantidad"
      ],
      "metadata": {
        "id": "wX4DoNL08sYj"
      },
      "execution_count": 59,
      "outputs": []
    },
    {
      "cell_type": "code",
      "source": [
        "print(\"*** MENU ***\")\n",
        "print(\"SELECCIONE UNA DIVISA\")\n",
        "print(\"1. metro\")\n",
        "print(\"2. Kilometro\")\n",
        "print(\"3. centimetros\")\n",
        "print(\"4. Milimetro\")\n",
        "print(\"5. Yarda\")\n",
        "print(\"6. Pie\")\n",
        "print(\"7. pulgada\")\n",
        "print(\"8. Milla\")\n",
        "print(\"9. Milla nautica\")\n",
        "print(\"10. Nanometro\")\n"
      ],
      "metadata": {
        "colab": {
          "base_uri": "https://localhost:8080/"
        },
        "id": "qmeyWUZb85XH",
        "outputId": "a69bfef0-b1e0-4c4f-af45-caef8d828861"
      },
      "execution_count": 57,
      "outputs": [
        {
          "output_type": "stream",
          "name": "stdout",
          "text": [
            "*** MENU ***\n",
            "SELECCIONE UNA DIVISA\n",
            "1. metro\n",
            "2. Kilometro\n",
            "3. centimetros\n",
            "4. Milimetro\n",
            "5. Yarda\n",
            "6. Pie\n",
            "7. pulgada\n",
            "8. Milla\n",
            "9. Milla nautica\n",
            "10. Nanometro\n"
          ]
        }
      ]
    },
    {
      "cell_type": "code",
      "source": [
        "a = int(input(\"DE: \"))\n",
        "de = int(input(\"A: \"))\n",
        "cantidad = float(input(\"Cantidad: \"))\n",
        "\n",
        "print( divisas[a],  \" a \", divisas[de], \" es: \", convertir(de, a, cantidad) )"
      ],
      "metadata": {
        "colab": {
          "base_uri": "https://localhost:8080/"
        },
        "id": "Ie2bbw7pfxI_",
        "outputId": "42b5c8b0-6359-4bf8-822e-1437cb89d4cf"
      },
      "execution_count": 62,
      "outputs": [
        {
          "output_type": "stream",
          "name": "stdout",
          "text": [
            "DE: 10\n",
            "A: 5\n",
            "Cantidad: 5\n",
            "nanometro  a  yarda  es:  5.468049999999999e-09\n"
          ]
        }
      ]
    },
    {
      "cell_type": "markdown",
      "source": [
        "MASA"
      ],
      "metadata": {
        "id": "H3_gb8-Ao5_b"
      }
    },
    {
      "cell_type": "code",
      "source": [
        "divisas = [\"Seleccione una divisa\", \"Tonelada\", \n",
        "           \"Kilogramo\", \"Gramo\", \"Miligramo\", \n",
        "           \"Microgramo\", \"Tonelada larga\", \"Tonela corta\", \n",
        "           \"Stone\", \"Libra\", 'Onza',\n",
        "\n",
        "]\n",
        "valores = [0,1, 1000, 1e+6, 1e+9, 1e+12, 0.984207, 1.10231, 157.473, 2204.62, 35274 ]"
      ],
      "metadata": {
        "id": "QOqO1M7No730"
      },
      "execution_count": 29,
      "outputs": []
    },
    {
      "cell_type": "code",
      "source": [
        "def convertir(de, a, cantidad):\n",
        "  return valores [de] / valores [a] * cantidad"
      ],
      "metadata": {
        "id": "tg6fdXMQ2zHk"
      },
      "execution_count": 25,
      "outputs": []
    },
    {
      "cell_type": "code",
      "source": [
        "print(\"*** MENU ***\")\n",
        "print(\"SELECCIONE UNA DIVISA\")\n",
        "print(\"1. Tonelada\")\n",
        "print(\"2. Kilogramo\")\n",
        "print(\"3. Gramo\")\n",
        "print(\"4. Miligramo\")\n",
        "print(\"5. Micrograma\")\n",
        "print(\"6. Tonelada larga\")\n",
        "print(\"7. Tonelada corta\")\n",
        "print(\"8. Stone\")\n",
        "print(\"9. Libra\")\n",
        "print(\"10. Onza\")"
      ],
      "metadata": {
        "colab": {
          "base_uri": "https://localhost:8080/"
        },
        "id": "nHo_RHmK2zlc",
        "outputId": "2a69fda2-0481-4644-b100-6ff0169e402b"
      },
      "execution_count": 26,
      "outputs": [
        {
          "output_type": "stream",
          "name": "stdout",
          "text": [
            "*** MENU ***\n",
            "SELECCIONE UNA DIVISA\n",
            "1. Tonelada\n",
            "2. Kilogramo\n",
            "3. Gramo\n",
            "4. Miligramo\n",
            "5. Micrograma\n",
            "6. Tonelada larga\n",
            "7. Tonelada corta\n",
            "8. Stone\n",
            "9. Libra\n",
            "10. Onza\n"
          ]
        }
      ]
    },
    {
      "cell_type": "code",
      "source": [
        "a = int(input(\"DE: \"))\n",
        "de = int(input(\"A: \"))\n",
        "cantidad = float(input(\"Cantidad: \"))\n",
        "print( divisas[a],  \" a \", divisas[de], \" es: \", convertir(de, a, cantidad) )"
      ],
      "metadata": {
        "colab": {
          "base_uri": "https://localhost:8080/"
        },
        "id": "WlV0eyYI20A-",
        "outputId": "e88d60e6-d195-4e9a-f4a1-a42925ad942d"
      },
      "execution_count": 31,
      "outputs": [
        {
          "output_type": "stream",
          "name": "stdout",
          "text": [
            "DE: 10\n",
            "A: 5\n",
            "Cantidad: 10000\n",
            "Onza  a  Microgramo  es:  283494925440834.6\n"
          ]
        }
      ]
    },
    {
      "cell_type": "markdown",
      "source": [
        "ALMACENAMIENTO"
      ],
      "metadata": {
        "id": "9LLcqCoVpjmJ"
      }
    },
    {
      "cell_type": "code",
      "source": [
        "divisas = [\"Seleccione una divisa\", \" Terabit\", \n",
        "           \"Mebibit\", \"Gibibit\", \"Gigabit\", \n",
        "           \"tebibit\", \"Petabyte\", \"Mebibyte\", \n",
        "           \"Megabyte\", \"Gigabyte\", 'Terabyte',\n",
        "]\n",
        "valores = [0,1, 953700, 931.3, 1000, 1.1, 8000, 119200, 125000,125,0.125 ]"
      ],
      "metadata": {
        "id": "Ubstv3vKpoIp"
      },
      "execution_count": 15,
      "outputs": []
    },
    {
      "cell_type": "code",
      "source": [
        "def convertir(de, a, cantidad):\n",
        "  return valores [de] / valores [a] * cantidad"
      ],
      "metadata": {
        "id": "TcJ61-sUrDLv"
      },
      "execution_count": 6,
      "outputs": []
    },
    {
      "cell_type": "code",
      "source": [
        "print(\"*** MENU ***\")\n",
        "print(\"SELECCIONE UNA DIVISA\")\n",
        "print(\"1. Terabit\")\n",
        "print(\"2. Mebibit\")\n",
        "print(\"3. Gibibit\")\n",
        "print(\"4. Gigabit\")\n",
        "print(\"5. Tebibit\")\n",
        "print(\"6. Petabyte\")\n",
        "print(\"7. Mebibyte\")\n",
        "print(\"8. Megabyte\")\n",
        "print(\"9. Gygabyte\")\n",
        "print(\"10.Terabyte\")"
      ],
      "metadata": {
        "colab": {
          "base_uri": "https://localhost:8080/"
        },
        "id": "Kj-V_iDXrctU",
        "outputId": "4f2166d8-30c8-40cd-c7cd-6b23564f0199"
      },
      "execution_count": 8,
      "outputs": [
        {
          "output_type": "stream",
          "name": "stdout",
          "text": [
            "*** MENU ***\n",
            "SELECCIONE UNA DIVISA\n",
            "1. Terabit\n",
            "2. Mebibit\n",
            "3. Gibibit\n",
            "4. Gigabit\n",
            "5. Tebibit\n",
            "6. Petabyte\n",
            "7. Mebibyte\n",
            "8. Megabyte\n",
            "9. Gygabyte\n",
            "10.Terabyte\n"
          ]
        }
      ]
    },
    {
      "cell_type": "code",
      "source": [
        "a = int(input(\"DE: \"))\n",
        "de = int(input(\"A: \"))\n",
        "cantidad = float(input(\"Cantidad: \"))\n",
        "\n",
        "print( divisas[a],  \" a \", divisas[de], \" es: \", convertir(de, a, cantidad) )"
      ],
      "metadata": {
        "colab": {
          "base_uri": "https://localhost:8080/"
        },
        "id": "kfHFaR3drf-E",
        "outputId": "aae1447d-8778-4bc9-ae1d-ce089a81c41a"
      },
      "execution_count": 22,
      "outputs": [
        {
          "output_type": "stream",
          "name": "stdout",
          "text": [
            "DE: 10\n",
            "A: 4\n",
            "Cantidad: 20\n",
            "Terabyte  a  Gigabit  es:  160000.0\n"
          ]
        }
      ]
    },
    {
      "cell_type": "markdown",
      "source": [
        "TIEMPO"
      ],
      "metadata": {
        "id": "KY0IiwCP0agk"
      }
    },
    {
      "cell_type": "code",
      "source": [
        "divisas = [\"Seleccione una divisa\", \" Segundo\", \n",
        "           \"Milisegundo\", \"Minuto\", \"Hora\", \n",
        "           \"Dia\", \"Semana\", \"Mes\", \n",
        "           \"Año\", \"Decada\", 'Siglo',\n",
        "]\n",
        "valores = [0,1, 1000, 0.0166667, 0.000277778,1.1574e-5, 1.6534e-6, 3.8052e-7, 3.171e-8,3.171e-9,3.171e-10 ]"
      ],
      "metadata": {
        "id": "30LIi465zm6l"
      },
      "execution_count": 41,
      "outputs": []
    },
    {
      "cell_type": "code",
      "source": [
        "def convertir(de, a, cantidad):\n",
        "  return valores [de] / valores [a] * cantidad"
      ],
      "metadata": {
        "id": "yTtCUhA936oB"
      },
      "execution_count": 42,
      "outputs": []
    },
    {
      "cell_type": "code",
      "source": [
        "print(\"*** MENU ***\")\n",
        "print(\"SELECCIONE UNA DIVISA\")\n",
        "print(\"1. Segundo\")\n",
        "print(\"2. Milesegundo\")\n",
        "print(\"3. Minuto\")\n",
        "print(\"4. Hora\")\n",
        "print(\"5. Dia\")\n",
        "print(\"6. Semana\")\n",
        "print(\"7. Mes\")\n",
        "print(\"8. Año\")\n",
        "print(\"9. Decada\")\n",
        "print(\"10.Siglo\")"
      ],
      "metadata": {
        "colab": {
          "base_uri": "https://localhost:8080/"
        },
        "id": "ErmDZjL73-xB",
        "outputId": "30e3ea37-ab4b-43fc-a270-378dbb3a883a"
      },
      "execution_count": 43,
      "outputs": [
        {
          "output_type": "stream",
          "name": "stdout",
          "text": [
            "*** MENU ***\n",
            "SELECCIONE UNA DIVISA\n",
            "1. Segundo\n",
            "2. Milesegundo\n",
            "3. Minuto\n",
            "4. Hora\n",
            "5. Dia\n",
            "6. Semana\n",
            "7. Mes\n",
            "8. Año\n",
            "9. Decada\n",
            "10.Siglo\n"
          ]
        }
      ]
    },
    {
      "cell_type": "code",
      "source": [
        "a = int(input(\"DE: \"))\n",
        "de = int(input(\"A: \"))\n",
        "cantidad = float(input(\"Cantidad: \"))\n",
        "\n",
        "print( divisas[a],  \" a \", divisas[de], \" es: \", convertir(de, a, cantidad) )"
      ],
      "metadata": {
        "colab": {
          "base_uri": "https://localhost:8080/"
        },
        "id": "F8JpH8134B0R",
        "outputId": "28967996-2faf-4247-aa99-00f89481cb1a"
      },
      "execution_count": 47,
      "outputs": [
        {
          "output_type": "stream",
          "name": "stdout",
          "text": [
            "DE: 4\n",
            "A: 3\n",
            "Cantidad: 730\n",
            "Hora  a  Minuto  es:  43800.05255995795\n"
          ]
        }
      ]
    },
    {
      "cell_type": "markdown",
      "source": [
        "VOLUMEN"
      ],
      "metadata": {
        "id": "LxxsQ2zg9b05"
      }
    },
    {
      "cell_type": "code",
      "source": [
        "divisas = [\"Seleccione una divisa\", \"Litro\", \n",
        "           \"Mililitro\", \"Galón\", \"Cuarto\", \n",
        "           \"Pinta\", \"Taza\", \"Onza líquida\", \n",
        "           \"Cucharada\", \"Cucharadita\", 'Pie cúbico',\n",
        "]\n",
        "valores = [0,1, 1000, 0.219969, 0.879877, 1.75975, 3.51951, 35.1951, 56.3121, 168.936, 0.0353147 ]"
      ],
      "metadata": {
        "id": "ajLelxdJ9nbS"
      },
      "execution_count": 51,
      "outputs": []
    },
    {
      "cell_type": "code",
      "source": [
        "def convertir(de, a, cantidad):\n",
        "  return valores [de] / valores [a] * cantidad"
      ],
      "metadata": {
        "id": "Kvk7AOuh-0t3"
      },
      "execution_count": 52,
      "outputs": []
    },
    {
      "cell_type": "code",
      "source": [
        "print(\"*** MENU ***\")\n",
        "print(\"SELECCIONE UNA DIVISA\")\n",
        "print(\"1. Litro\")\n",
        "print(\"2. Mililitro\")\n",
        "print(\"3. Galón\")\n",
        "print(\"4. Cuarto\")\n",
        "print(\"5. Pinta\")\n",
        "print(\"6. Taza\")\n",
        "print(\"7. Onza liquida\")\n",
        "print(\"8. Cucharada\")\n",
        "print(\"9. Cucharadita\")\n",
        "print(\"10. Pie cúbico\")"
      ],
      "metadata": {
        "colab": {
          "base_uri": "https://localhost:8080/"
        },
        "id": "JzXhvD3q-6jN",
        "outputId": "f9513334-4f47-4aa4-92a0-886f8757aca3"
      },
      "execution_count": 53,
      "outputs": [
        {
          "output_type": "stream",
          "name": "stdout",
          "text": [
            "*** MENU ***\n",
            "SELECCIONE UNA DIVISA\n",
            "1. Litro\n",
            "2. Mililitro\n",
            "3. Galón\n",
            "4. Cuarto\n",
            "5. Pinta\n",
            "6. Taza\n",
            "7. Onza liquida\n",
            "8. Cucharada\n",
            "9. Cucharadita\n",
            "10. Pie cúbico\n"
          ]
        }
      ]
    },
    {
      "cell_type": "code",
      "source": [
        "a = int(input(\"DE: \"))\n",
        "de = int(input(\"A: \"))\n",
        "cantidad = float(input(\"Cantidad: \"))\n",
        "print( divisas[a],  \" a \", divisas[de], \" es: \", convertir(de, a, cantidad) )"
      ],
      "metadata": {
        "colab": {
          "base_uri": "https://localhost:8080/"
        },
        "id": "xwzJJ24N_Be9",
        "outputId": "d6d62024-982d-4cdf-c234-3eb3832259c2"
      },
      "execution_count": 55,
      "outputs": [
        {
          "output_type": "stream",
          "name": "stdout",
          "text": [
            "DE: 1\n",
            "A: 2\n",
            "Cantidad: 10\n",
            "Litro  a  Mililitro  es:  10000.0\n"
          ]
        }
      ]
    },
    {
      "cell_type": "markdown",
      "source": [
        "AREA"
      ],
      "metadata": {
        "id": "HzpFwPkAAjqA"
      }
    },
    {
      "cell_type": "code",
      "source": [
        "divisas = [\"Seleccione una divisa\", \"Hectarea\", \n",
        "           \"Kilometro cuadrado\", \"Metro Cuadrado\", \"Milla cuadrada\", \n",
        "           \"Yarda cuadrada\", \"Pie cuadrado\", \"Pulgada cuadrada\", \n",
        "           \"Acre\",\n",
        "]\n",
        "valores = [0,1, 0.01, 10000, 0.00386102, 11959.9, 107639, 1.55e+7, 2.47105 ]"
      ],
      "metadata": {
        "id": "cfc2W16BAjYy"
      },
      "execution_count": 63,
      "outputs": []
    },
    {
      "cell_type": "code",
      "source": [
        "def convertir(de, a, cantidad):\n",
        "  return valores [de] / valores [a] * cantidad"
      ],
      "metadata": {
        "id": "HF527kJAA7tf"
      },
      "execution_count": 56,
      "outputs": []
    },
    {
      "cell_type": "code",
      "source": [
        "print(\"*** MENU ***\")\n",
        "print(\"SELECCIONE UNA DIVISA\")\n",
        "print(\"1. Hectarea\")\n",
        "print(\"2. Kilometro cuadrado\")\n",
        "print(\"3. Metro cuadrado\")\n",
        "print(\"4. Milla cuadrada\")\n",
        "print(\"5. Yarda cuadrada\")\n",
        "print(\"6. Pie cuadrado\")\n",
        "print(\"7. Pulgada cuadrada\")\n",
        "print(\"8. Acre\")"
      ],
      "metadata": {
        "colab": {
          "base_uri": "https://localhost:8080/"
        },
        "id": "pLiHXGVNA-IB",
        "outputId": "02d150a4-af8b-46ba-961d-a3bcf39090e4"
      },
      "execution_count": 64,
      "outputs": [
        {
          "output_type": "stream",
          "name": "stdout",
          "text": [
            "*** MENU ***\n",
            "SELECCIONE UNA DIVISA\n",
            "1. Hectarea\n",
            "2. Kilometro cuadrado\n",
            "3. Metro cuadrado\n",
            "4. Milla cuadrada\n",
            "5. Yarda cuadrada\n",
            "6. Pie cuadrado\n",
            "7. Pulgada cuadrada\n",
            "8. Acre\n"
          ]
        }
      ]
    },
    {
      "cell_type": "code",
      "source": [
        "a = int(input(\"DE: \"))\n",
        "de = int(input(\"A: \"))\n",
        "cantidad = float(input(\"Cantidad: \"))\n",
        "print( divisas[a],  \" a \", divisas[de], \" es: \", convertir(de, a, cantidad) )"
      ],
      "metadata": {
        "colab": {
          "base_uri": "https://localhost:8080/"
        },
        "id": "EsG0_vYKBALf",
        "outputId": "4f02a53a-b40a-4910-dccf-6cf7e8313bb6"
      },
      "execution_count": 66,
      "outputs": [
        {
          "output_type": "stream",
          "name": "stdout",
          "text": [
            "DE: 8\n",
            "A: 5\n",
            "Cantidad: 1\n",
            "Acre  a  Yarda cuadrada  es:  4840.007284352805\n"
          ]
        }
      ]
    }
  ]
}