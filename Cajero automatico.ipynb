{
  "nbformat": 4,
  "nbformat_minor": 0,
  "metadata": {
    "colab": {
      "provenance": [],
      "authorship_tag": "ABX9TyM218R/13m7fZtNDRXWK9Mo",
      "include_colab_link": true
    },
    "kernelspec": {
      "name": "python3",
      "display_name": "Python 3"
    },
    "language_info": {
      "name": "python"
    }
  },
  "cells": [
    {
      "cell_type": "markdown",
      "metadata": {
        "id": "view-in-github",
        "colab_type": "text"
      },
      "source": [
        "<a href=\"https://colab.research.google.com/github/Stanleylarin/Programacion-3/blob/main/Cajero%20automatico.ipynb\" target=\"_parent\"><img src=\"https://colab.research.google.com/assets/colab-badge.svg\" alt=\"Open In Colab\"/></a>"
      ]
    },
    {
      "cell_type": "code",
      "source": [
        "carga100 = 100\n",
        "carga50 = 100\n",
        "carga20 = 100\n",
        "carga10 = 100\n",
        "carga5 = 100\n",
        " \n",
        " \n",
        "def sacar_dinero(cantidad):\n",
        "  global carga100, carga50, carga20, carga10, carga5\n",
        "  if cantidad <= 100 * carga100 + 50 * carga50 + 20 * carga20 + 10 * carga10 + 5 * carga5:\n",
        "    de100 = int(cantidad/100)\n",
        "    cantidad = cantidad % 100\n",
        "    if de100 >= carga100: \n",
        "        cantidad = cantidad + (de100 - carga100) * 100\n",
        "        de100 = carga100\n",
        " \n",
        "    de50 = int(cantidad / 50)\n",
        "    cantidad = cantidad % 50\n",
        "    if de50 >= carga50: \n",
        "      cantidad = cantidad + (de50 - carga50) * 50\n",
        "      de50 = carga50\n",
        " \n",
        "    de20 = int(cantidad / 20)\n",
        "    cantidad = cantidad % 20\n",
        "    if de20 >= carga20:\n",
        "      cantidad = cantidad + (de20 - carga20) * 20\n",
        "      de20 = carga20\n",
        " \n",
        "    de10 = int(cantidad / 10)\n",
        "    cantidad = cantidad % 10\n",
        "    if de10 >= carga10:\n",
        "      cantidad = cantidad + (de10 - carga10) * 10\n",
        "      de10 = carga10\n",
        " \n",
        "    de5 = int(cantidad / 5)\n",
        "    cantidad = cantidad % 5\n",
        "    if de5  >= carga5: \n",
        "        cantidad = cantidad + (de5 - carga5) * 5\n",
        "        de5 = carga5\n",
        " \n",
        " \n",
        " \n",
        " \n",
        "   \n",
        "    if cantidad == 0:\n",
        "     \n",
        "      carga100= carga100 - de100\n",
        "      carga50 = carga50 - de50\n",
        "      carga20 = carga20 - de20\n",
        "      carga10 = carga10 - de10\n",
        "      carga5 = carga5 - de5\n",
        "      return [de100, de50, de20, de10, de5]\n",
        "    else: \n",
        "      return [0, 0, 0, 0, 0]\n",
        "  else:\n",
        "    return [-1, -1, -1, -1, -1]\n",
        " \n",
        "try:\n",
        "    c = int(input('Cantidad a extraer: '))\n",
        "    resultado=sacar_dinero(c)\n",
        "    if resultado==[0,0,0,0,0]:\n",
        "        print ('No hay desglose de billetes para su importe')\n",
        "    elif resultado==[-1,-1,-1,-1,-1]:\n",
        "        print ('No hay suficientes billetes')\n",
        "    else:\n",
        "        print ( resultado[0],  'Billetes de 100')\n",
        "        print ( resultado[1],  'Billetes de 50:')\n",
        "        print ( resultado[2],  'Billetes de 20:')\n",
        "        print ( resultado[3], 'Billetes de 10:')\n",
        "        print ( resultado [4], 'Billetes de 5:')\n",
        "except:\n",
        "    print ('Importe incorrecto')"
      ],
      "metadata": {
        "colab": {
          "base_uri": "https://localhost:8080/"
        },
        "id": "E3C4BhYRs8s9",
        "outputId": "a1cd63cb-cf6a-42d5-ce83-a80eca64bdc0"
      },
      "execution_count": 18,
      "outputs": [
        {
          "output_type": "stream",
          "name": "stdout",
          "text": [
            "Cantidad a extraer: 3655\n",
            "36 Billetes de 100\n",
            "1 Billetes de 50:\n",
            "0 Billetes de 20:\n",
            "0 Billetes de 10:\n",
            "1 Billetes de 5:\n"
          ]
        }
      ]
    }
  ]
}