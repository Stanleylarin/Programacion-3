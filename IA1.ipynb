{
  "nbformat": 4,
  "nbformat_minor": 0,
  "metadata": {
    "colab": {
      "provenance": [],
      "authorship_tag": "ABX9TyNo2O2tvvHjqCrmtQyqzGOX",
      "include_colab_link": true
    },
    "kernelspec": {
      "name": "python3",
      "display_name": "Python 3"
    },
    "language_info": {
      "name": "python"
    }
  },
  "cells": [
    {
      "cell_type": "markdown",
      "metadata": {
        "id": "view-in-github",
        "colab_type": "text"
      },
      "source": [
        "<a href=\"https://colab.research.google.com/github/Stanleylarin/Programacion-3/blob/main/IA1.ipynb\" target=\"_parent\"><img src=\"https://colab.research.google.com/assets/colab-badge.svg\" alt=\"Open In Colab\"/></a>"
      ]
    },
    {
      "cell_type": "code",
      "execution_count": 46,
      "metadata": {
        "id": "IG3Bl2RXK6nT"
      },
      "outputs": [],
      "source": [
        "import tensorflow as tf \n",
        "from tensorflow import keras\n",
        "import numpy as np \n",
        "import matplotlib.pyplot as plt\n",
        "from PIL import Image\n",
        "import os\n",
        "import csv"
      ]
    },
    {
      "cell_type": "code",
      "source": [
        "Categorias = []\n",
        "Labels = []\n",
        "Imagenes = []"
      ],
      "metadata": {
        "id": "eghWSrF7NBFb"
      },
      "execution_count": 47,
      "outputs": []
    },
    {
      "cell_type": "code",
      "source": [
        "! unzip Ropa.zip"
      ],
      "metadata": {
        "colab": {
          "base_uri": "https://localhost:8080/"
        },
        "id": "lmgpUyd5UBNp",
        "outputId": "296a8945-3cc5-4cf3-d165-8d5190282c4a"
      },
      "execution_count": 48,
      "outputs": [
        {
          "output_type": "stream",
          "name": "stdout",
          "text": [
            "Archive:  Ropa.zip\n",
            "replace Ropa/Bolso.jpg? [y]es, [n]o, [A]ll, [N]one, [r]ename: A\n",
            "  inflating: Ropa/Bolso.jpg          \n",
            "  inflating: Ropa/Botin.jpg          \n",
            "  inflating: Ropa/Camisa.jpg         \n",
            "  inflating: Ropa/Camiseta.jpg       \n",
            "  inflating: Ropa/Pantalon.jpg       \n",
            "  inflating: Ropa/Pull-over.jpg      \n",
            " extracting: Ropa/Saco.jpg           \n",
            "  inflating: Ropa/Sandalia.jpg       \n",
            "  inflating: Ropa/Vestido.jpg        \n",
            "  inflating: Ropa/Zapatillas de deporte.jpg  \n"
          ]
        }
      ]
    },
    {
      "cell_type": "code",
      "source": [
        "Categorias = os.listdir('/content/Ropa')"
      ],
      "metadata": {
        "id": "NGdAvk61NIyR"
      },
      "execution_count": 59,
      "outputs": []
    },
    {
      "cell_type": "code",
      "source": [
        "Categorias"
      ],
      "metadata": {
        "colab": {
          "base_uri": "https://localhost:8080/"
        },
        "id": "4YDOxS89mC2D",
        "outputId": "9b937fc9-85db-4401-88a7-9cfcda79f974"
      },
      "execution_count": 73,
      "outputs": [
        {
          "output_type": "execute_result",
          "data": {
            "text/plain": [
              "['Camisa',\n",
              " 'Botin',\n",
              " 'Sandalia.jpg',\n",
              " 'Saco.jpg',\n",
              " 'Vestido.jpg',\n",
              " 'Botin.jpg',\n",
              " 'Pull-over.jpg',\n",
              " 'Camiseta',\n",
              " 'Bolso.jpg',\n",
              " 'Bolso',\n",
              " 'Saco',\n",
              " 'Camisa.jpg',\n",
              " 'Vestido',\n",
              " 'Sandalia',\n",
              " 'Zapatillas de deporte.jpg',\n",
              " 'Zapatillas',\n",
              " 'Pantalon',\n",
              " 'Pull-over',\n",
              " 'Camiseta.jpg',\n",
              " 'Pantalon.jpg']"
            ]
          },
          "metadata": {},
          "execution_count": 73
        }
      ]
    },
    {
      "cell_type": "code",
      "source": [
        "X=0\n",
        "for directorio in Categorias:\n",
        "  for Imagen in os.listdir('/content/Ropa/Camisa'+directorio):\n",
        "    img = Image.open('Ropa/Camisa'+directorio+'//'+Imagen).resize((28,28))\n",
        "    img = np.asarray(img)\n",
        "    Imagenes.append(img)\n",
        "    Labels.append(X)\n",
        "\n",
        "  X += 1"
      ],
      "metadata": {
        "colab": {
          "base_uri": "https://localhost:8080/",
          "height": 246
        },
        "id": "mAbkuHmcgJkN",
        "outputId": "ae3bd54e-7aa4-49bf-e5db-edf21bb2aa6a"
      },
      "execution_count": 76,
      "outputs": [
        {
          "output_type": "error",
          "ename": "FileNotFoundError",
          "evalue": "ignored",
          "traceback": [
            "\u001b[0;31m---------------------------------------------------------------------------\u001b[0m",
            "\u001b[0;31mFileNotFoundError\u001b[0m                         Traceback (most recent call last)",
            "\u001b[0;32m<ipython-input-76-cf8af4ca5254>\u001b[0m in \u001b[0;36m<module>\u001b[0;34m\u001b[0m\n\u001b[1;32m      1\u001b[0m \u001b[0mX\u001b[0m\u001b[0;34m=\u001b[0m\u001b[0;36m0\u001b[0m\u001b[0;34m\u001b[0m\u001b[0;34m\u001b[0m\u001b[0m\n\u001b[1;32m      2\u001b[0m \u001b[0;32mfor\u001b[0m \u001b[0mdirectorio\u001b[0m \u001b[0;32min\u001b[0m \u001b[0mCategorias\u001b[0m\u001b[0;34m:\u001b[0m\u001b[0;34m\u001b[0m\u001b[0;34m\u001b[0m\u001b[0m\n\u001b[0;32m----> 3\u001b[0;31m   \u001b[0;32mfor\u001b[0m \u001b[0mImagen\u001b[0m \u001b[0;32min\u001b[0m \u001b[0mos\u001b[0m\u001b[0;34m.\u001b[0m\u001b[0mlistdir\u001b[0m\u001b[0;34m(\u001b[0m\u001b[0;34m'/content/Ropa/Camisa'\u001b[0m\u001b[0;34m+\u001b[0m\u001b[0mdirectorio\u001b[0m\u001b[0;34m)\u001b[0m\u001b[0;34m:\u001b[0m\u001b[0;34m\u001b[0m\u001b[0;34m\u001b[0m\u001b[0m\n\u001b[0m\u001b[1;32m      4\u001b[0m     \u001b[0mimg\u001b[0m \u001b[0;34m=\u001b[0m \u001b[0mImage\u001b[0m\u001b[0;34m.\u001b[0m\u001b[0mopen\u001b[0m\u001b[0;34m(\u001b[0m\u001b[0;34m'Ropa/Camisa'\u001b[0m\u001b[0;34m+\u001b[0m\u001b[0mdirectorio\u001b[0m\u001b[0;34m+\u001b[0m\u001b[0;34m'//'\u001b[0m\u001b[0;34m+\u001b[0m\u001b[0mImagen\u001b[0m\u001b[0;34m)\u001b[0m\u001b[0;34m.\u001b[0m\u001b[0mresize\u001b[0m\u001b[0;34m(\u001b[0m\u001b[0;34m(\u001b[0m\u001b[0;36m28\u001b[0m\u001b[0;34m,\u001b[0m\u001b[0;36m28\u001b[0m\u001b[0;34m)\u001b[0m\u001b[0;34m)\u001b[0m\u001b[0;34m\u001b[0m\u001b[0;34m\u001b[0m\u001b[0m\n\u001b[1;32m      5\u001b[0m     \u001b[0mimg\u001b[0m \u001b[0;34m=\u001b[0m \u001b[0mnp\u001b[0m\u001b[0;34m.\u001b[0m\u001b[0masarray\u001b[0m\u001b[0;34m(\u001b[0m\u001b[0mimg\u001b[0m\u001b[0;34m)\u001b[0m\u001b[0;34m\u001b[0m\u001b[0;34m\u001b[0m\u001b[0m\n",
            "\u001b[0;31mFileNotFoundError\u001b[0m: [Errno 2] No such file or directory: '/content/Ropa/CamisaCamisa'"
          ]
        }
      ]
    }
  ]
}