{
  "nbformat": 4,
  "nbformat_minor": 0,
  "metadata": {
    "colab": {
      "provenance": [],
      "authorship_tag": "ABX9TyPqoyf8ZweV5M4Cl10LiUUe",
      "include_colab_link": true
    },
    "kernelspec": {
      "name": "python3",
      "display_name": "Python 3"
    },
    "language_info": {
      "name": "python"
    }
  },
  "cells": [
    {
      "cell_type": "markdown",
      "metadata": {
        "id": "view-in-github",
        "colab_type": "text"
      },
      "source": [
        "<a href=\"https://colab.research.google.com/github/Stanleylarin/Programacion-3/blob/main/Notas%20finales%20con%20lambda.ipynb\" target=\"_parent\"><img src=\"https://colab.research.google.com/assets/colab-badge.svg\" alt=\"Open In Colab\"/></a>"
      ]
    },
    {
      "cell_type": "markdown",
      "source": [],
      "metadata": {
        "id": "cuNAD5OkfdrG"
      }
    },
    {
      "cell_type": "code",
      "source": [
        "print('ingrese sus notas en el primer cómputo')\n",
        "Lab1C1 = float(input())\n",
        "Lab2C1 = float(input())\n",
        "Parcial1 = float(input())\n",
        "\n",
        "print('Ingrese sus notas en el segundo cómputo')\n",
        "Lab1C2 = float(input())\n",
        "Lab2C2 = float(input())\n",
        "Parcial2 = float(input())\n",
        "\n",
        "print('ingresé sus notas en el tercer cómputo') \n",
        "Lab1C3 = float(input())\n",
        "Lab2C3 = float(input())\n",
        "Parcial3 = float(input())\n",
        "\n",
        "Notas = lambda a,b,c: (a * 0.3) + (b * 0.3) + (c * 0.4) \n",
        "\n",
        "Comp1 = Notas(Lab1C1, Lab2C1, Parcial1)\n",
        "Comp2 = Notas(Lab1C2, Lab2C2, Parcial2)\n",
        "Comp3 = Notas(Lab1C3, Lab2C3, Parcial3)\n",
        "\n",
        "Notafinal = (Comp1 + Comp2 + Comp3 ) /3\n",
        "\n",
        "print(Notafinal)"
      ],
      "metadata": {
        "colab": {
          "base_uri": "https://localhost:8080/"
        },
        "id": "BZj-Qf_zsJPg",
        "outputId": "37d5b2cb-d34d-487d-afb1-7ec96914ef2f"
      },
      "execution_count": 5,
      "outputs": [
        {
          "output_type": "stream",
          "name": "stdout",
          "text": [
            "ingrese sus notas en el primer cómputo\n",
            "6\n",
            "8\n",
            "10\n",
            "Ingrese sus notas en el segundo cómputo\n",
            "7\n",
            "7\n",
            "9\n",
            "ingresé sus notas en el tercer cómputo\n",
            "10\n",
            "8\n",
            "8\n",
            "8.200000000000001\n"
          ]
        }
      ]
    }
  ]
}