{
  "nbformat": 4,
  "nbformat_minor": 0,
  "metadata": {
    "colab": {
      "name": "Untitled3.ipynb",
      "provenance": [],
      "authorship_tag": "ABX9TyPLtv0wEtPhEjF3tYL2kgR3",
      "include_colab_link": true
    },
    "kernelspec": {
      "name": "python3",
      "display_name": "Python 3"
    },
    "language_info": {
      "name": "python"
    }
  },
  "cells": [
    {
      "cell_type": "markdown",
      "metadata": {
        "id": "view-in-github",
        "colab_type": "text"
      },
      "source": [
        "<a href=\"https://colab.research.google.com/github/Stanleylarin/Programacion-3/blob/main/pagar%20seg%C3%BAn%20metros%20consumidos%20de%20agua.ipynb\" target=\"_parent\"><img src=\"https://colab.research.google.com/assets/colab-badge.svg\" alt=\"Open In Colab\"/></a>"
      ]
    },
    {
      "cell_type": "code",
      "source": [
        "Precio = 6"
      ],
      "metadata": {
        "id": "CZp1bf5Jx5s-"
      },
      "execution_count": 42,
      "outputs": []
    },
    {
      "cell_type": "code",
      "source": [
        "Metros = float(input(\"Metros consumidos: \"))\n",
        "if(Metros<18):\n",
        "  print(\"Total a pagar\", Precio)\n",
        "elif(Metros<28):\n",
        "  print(\"Total a pagar\", 3.15 + Precio)\n",
        "elif (Metros >29):\n",
        "  print(\"Total a pagar\", 11 + Precio)\n",
        "  "
      ],
      "metadata": {
        "colab": {
          "base_uri": "https://localhost:8080/"
        },
        "id": "-65IGK3m44px",
        "outputId": "72370539-c791-49d1-b72a-dbf3bedd7562"
      },
      "execution_count": 58,
      "outputs": [
        {
          "output_type": "stream",
          "name": "stdout",
          "text": [
            "Metros consumidos: 14\n",
            "Total a pagar 6\n"
          ]
        }
      ]
    }
  ]
}